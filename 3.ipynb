{
 "cells": [
  {
   "cell_type": "markdown",
   "metadata": {},
   "source": [
    "# 确定性有限自动机"
   ]
  },
  {
   "cell_type": "code",
   "execution_count": 1,
   "metadata": {},
   "outputs": [
    {
     "data": {
      "text/plain": [
       ":inspect"
      ]
     },
     "execution_count": 1,
     "metadata": {},
     "output_type": "execute_result"
    }
   ],
   "source": [
    "class FARule < Struct.new(:state, :character, :next_state)\n",
    "  def applies_to?(state, character)\n",
    "    self.state == state && self.character == character\n",
    "  end\n",
    "\n",
    "  def follow\n",
    "    next_state\n",
    "  end\n",
    "\n",
    "  def inspect\n",
    "    \"#<FARule #{state.inspect} --#{character}--> #{next_state.inspect}>\"\n",
    "  end\n",
    "end\n"
   ]
  },
  {
   "cell_type": "code",
   "execution_count": 2,
   "metadata": {},
   "outputs": [
    {
     "data": {
      "text/plain": [
       ":rule_for"
      ]
     },
     "execution_count": 2,
     "metadata": {},
     "output_type": "execute_result"
    }
   ],
   "source": [
    "class DFARulebook < Struct.new(:rules)\n",
    "  def next_state(state, character)\n",
    "    rule_for(state, character).follow\n",
    "  end\n",
    "\n",
    "  def rule_for(state, character)\n",
    "    rules.detect { |rule| rule.applies_to?(state, character) }\n",
    "  end\n",
    "end"
   ]
  },
  {
   "cell_type": "code",
   "execution_count": 3,
   "metadata": {},
   "outputs": [
    {
     "data": {
      "text/plain": [
       "#<struct DFARulebook rules=[#<FARule 1 --a--> 2>, #<FARule 1 --b--> 1>, #<FARule 2 --a--> 2>, #<FARule 2 --b--> 3>, #<FARule 3 --a--> 3>, #<FARule 3 --b--> 3>]>"
      ]
     },
     "execution_count": 3,
     "metadata": {},
     "output_type": "execute_result"
    }
   ],
   "source": [
    "rulebook = DFARulebook.new([\n",
    "  FARule.new(1,'a',2),\n",
    "  FARule.new(1,'b',1),\n",
    "  FARule.new(2,'a',2),\n",
    "  FARule.new(2,'b',3),\n",
    "  FARule.new(3,'a',3),\n",
    "  FARule.new(3,'b',3),\n",
    "  \n",
    "  ])"
   ]
  },
  {
   "cell_type": "code",
   "execution_count": 4,
   "metadata": {},
   "outputs": [
    {
     "data": {
      "text/plain": [
       "2"
      ]
     },
     "execution_count": 4,
     "metadata": {},
     "output_type": "execute_result"
    }
   ],
   "source": [
    "rulebook.next_state(1,'a')"
   ]
  },
  {
   "cell_type": "code",
   "execution_count": 5,
   "metadata": {},
   "outputs": [
    {
     "data": {
      "text/plain": [
       "1"
      ]
     },
     "execution_count": 5,
     "metadata": {},
     "output_type": "execute_result"
    }
   ],
   "source": [
    "rulebook.next_state(1,\"b\")"
   ]
  },
  {
   "cell_type": "code",
   "execution_count": 6,
   "metadata": {},
   "outputs": [
    {
     "data": {
      "text/plain": [
       "3"
      ]
     },
     "execution_count": 6,
     "metadata": {},
     "output_type": "execute_result"
    }
   ],
   "source": [
    "rulebook.next_state(2,'b')"
   ]
  },
  {
   "cell_type": "code",
   "execution_count": 7,
   "metadata": {},
   "outputs": [
    {
     "data": {
      "text/plain": [
       ":read_string"
      ]
     },
     "execution_count": 7,
     "metadata": {},
     "output_type": "execute_result"
    }
   ],
   "source": [
    "class DFA < Struct.new(:current_state, :accept_states, :rulebook)\n",
    "  def accepting?\n",
    "    accept_states.include?(current_state)\n",
    "  end\n",
    "\n",
    "  def read_character(character)\n",
    "    self.current_state = rulebook.next_state(current_state, character)\n",
    "  end\n",
    "\n",
    "  def read_string(string)\n",
    "    string.chars.each do |character|\n",
    "      read_character(character)\n",
    "    end\n",
    "  end\n",
    "end"
   ]
  },
  {
   "cell_type": "code",
   "execution_count": 8,
   "metadata": {},
   "outputs": [
    {
     "data": {
      "text/plain": [
       "true"
      ]
     },
     "execution_count": 8,
     "metadata": {},
     "output_type": "execute_result"
    }
   ],
   "source": [
    "DFA.new(1,[1,3], rulebook).accepting?"
   ]
  },
  {
   "cell_type": "code",
   "execution_count": 9,
   "metadata": {},
   "outputs": [
    {
     "data": {
      "text/plain": [
       "false"
      ]
     },
     "execution_count": 9,
     "metadata": {},
     "output_type": "execute_result"
    }
   ],
   "source": [
    "DFA.new(1,[3], rulebook).accepting?"
   ]
  },
  {
   "cell_type": "code",
   "execution_count": 10,
   "metadata": {},
   "outputs": [
    {
     "data": {
      "text/plain": [
       "#<struct DFA current_state=1, accept_states=[3], rulebook=#<struct DFARulebook rules=[#<FARule 1 --a--> 2>, #<FARule 1 --b--> 1>, #<FARule 2 --a--> 2>, #<FARule 2 --b--> 3>, #<FARule 3 --a--> 3>, #<FARule 3 --b--> 3>]>>"
      ]
     },
     "execution_count": 10,
     "metadata": {},
     "output_type": "execute_result"
    }
   ],
   "source": [
    "dfa = DFA.new(1,[3],rulebook)\n"
   ]
  },
  {
   "cell_type": "code",
   "execution_count": 11,
   "metadata": {},
   "outputs": [
    {
     "data": {
      "text/plain": [
       "false"
      ]
     },
     "execution_count": 11,
     "metadata": {},
     "output_type": "execute_result"
    }
   ],
   "source": [
    "dfa.accepting?\n"
   ]
  },
  {
   "cell_type": "code",
   "execution_count": 12,
   "metadata": {},
   "outputs": [
    {
     "data": {
      "text/plain": [
       "1"
      ]
     },
     "execution_count": 12,
     "metadata": {},
     "output_type": "execute_result"
    }
   ],
   "source": [
    "dfa.read_character('b')\n"
   ]
  },
  {
   "cell_type": "code",
   "execution_count": 13,
   "metadata": {},
   "outputs": [
    {
     "data": {
      "text/plain": [
       "false"
      ]
     },
     "execution_count": 13,
     "metadata": {},
     "output_type": "execute_result"
    }
   ],
   "source": [
    "dfa.accepting?"
   ]
  },
  {
   "cell_type": "code",
   "execution_count": 14,
   "metadata": {},
   "outputs": [
    {
     "data": {
      "text/plain": [
       "false"
      ]
     },
     "execution_count": 14,
     "metadata": {},
     "output_type": "execute_result"
    }
   ],
   "source": [
    "dfa = DFA.new(1,[3], rulebook)\n",
    "dfa.accepting?"
   ]
  },
  {
   "cell_type": "code",
   "execution_count": 15,
   "metadata": {},
   "outputs": [
    {
     "data": {
      "text/plain": [
       "true"
      ]
     },
     "execution_count": 15,
     "metadata": {},
     "output_type": "execute_result"
    }
   ],
   "source": [
    "dfa.read_string('baaab')\n",
    "dfa.accepting?"
   ]
  },
  {
   "cell_type": "code",
   "execution_count": 16,
   "metadata": {},
   "outputs": [
    {
     "data": {
      "text/plain": [
       ":accepts?"
      ]
     },
     "execution_count": 16,
     "metadata": {},
     "output_type": "execute_result"
    }
   ],
   "source": [
    "class DFADesign < Struct.new(:start_state, :accept_states, :rulebook)\n",
    "  def to_dfa\n",
    "    DFA.new(start_state, accept_states, rulebook)\n",
    "  end\n",
    "\n",
    "  def accepts?(string)\n",
    "    to_dfa.tap { |dfa| dfa.read_string(string) }.accepting?\n",
    "  end\n",
    "end\n"
   ]
  },
  {
   "cell_type": "code",
   "execution_count": 17,
   "metadata": {},
   "outputs": [
    {
     "data": {
      "text/plain": [
       "#<struct DFADesign start_state=1, accept_states=[3], rulebook=#<struct DFARulebook rules=[#<FARule 1 --a--> 2>, #<FARule 1 --b--> 1>, #<FARule 2 --a--> 2>, #<FARule 2 --b--> 3>, #<FARule 3 --a--> 3>, #<FARule 3 --b--> 3>]>>"
      ]
     },
     "execution_count": 17,
     "metadata": {},
     "output_type": "execute_result"
    }
   ],
   "source": [
    "dfa_design = DFADesign.new(1,[3], rulebook)"
   ]
  },
  {
   "cell_type": "code",
   "execution_count": 18,
   "metadata": {},
   "outputs": [
    {
     "data": {
      "text/plain": [
       "false"
      ]
     },
     "execution_count": 18,
     "metadata": {},
     "output_type": "execute_result"
    }
   ],
   "source": [
    "dfa_design.accepts?('a')\n"
   ]
  },
  {
   "cell_type": "code",
   "execution_count": 19,
   "metadata": {},
   "outputs": [
    {
     "data": {
      "text/plain": [
       "false"
      ]
     },
     "execution_count": 19,
     "metadata": {},
     "output_type": "execute_result"
    }
   ],
   "source": [
    "dfa_design.accepts?('baa')"
   ]
  },
  {
   "cell_type": "code",
   "execution_count": 20,
   "metadata": {},
   "outputs": [
    {
     "data": {
      "text/plain": [
       "true"
      ]
     },
     "execution_count": 20,
     "metadata": {},
     "output_type": "execute_result"
    }
   ],
   "source": [
    "dfa_design.accepts?('baba')"
   ]
  },
  {
   "cell_type": "markdown",
   "metadata": {},
   "source": [
    "## 非确定性有限自动机"
   ]
  },
  {
   "cell_type": "code",
   "execution_count": 21,
   "metadata": {},
   "outputs": [
    {
     "data": {
      "text/plain": [
       ":alphabet"
      ]
     },
     "execution_count": 21,
     "metadata": {},
     "output_type": "execute_result"
    }
   ],
   "source": [
    "require 'set'\n",
    "\n",
    "class NFARulebook < Struct.new(:rules)\n",
    "  def next_states(states, character)\n",
    "    states.flat_map { |state| follow_rules_for(state, character) }.to_set\n",
    "  end\n",
    "\n",
    "  def follow_rules_for(state, character)\n",
    "    rules_for(state, character).map(&:follow)\n",
    "  end\n",
    "\n",
    "  def rules_for(state, character)\n",
    "    rules.select { |rule| rule.applies_to?(state, character) }\n",
    "  end\n",
    "  \n",
    "  # 自由移动\n",
    "  def follow_free_moves(states)\n",
    "    more_states = next_states(states, nil)\n",
    "\n",
    "    if more_states.subset?(states)\n",
    "      states\n",
    "    else\n",
    "      follow_free_moves(states + more_states)\n",
    "    end\n",
    "  end\n",
    "\n",
    "  def alphabet\n",
    "    rules.map(&:character).compact.uniq\n",
    "  end\n",
    "end"
   ]
  },
  {
   "cell_type": "code",
   "execution_count": 22,
   "metadata": {},
   "outputs": [
    {
     "data": {
      "text/plain": [
       "#<struct NFARulebook rules=[#<FARule 1 --a--> 1>, #<FARule 1 --b--> 1>, #<FARule 1 --b--> 2>, #<FARule 2 --a--> 3>, #<FARule 2 --b--> 3>, #<FARule 3 --a--> 4>, #<FARule 3 --b--> 4>]>"
      ]
     },
     "execution_count": 22,
     "metadata": {},
     "output_type": "execute_result"
    }
   ],
   "source": [
    "rulebook = NFARulebook.new([\n",
    "  FARule.new(1,'a',1),\n",
    "  FARule.new(1,'b',1),\n",
    "  FARule.new(1,'b',2),\n",
    "    \n",
    "  FARule.new(2,'a',3),\n",
    "  FARule.new(2,'b',3),\n",
    "  FARule.new(3,'a',4),\n",
    "  FARule.new(3,'b',4),\n",
    "  ])"
   ]
  },
  {
   "cell_type": "code",
   "execution_count": 23,
   "metadata": {},
   "outputs": [
    {
     "data": {
      "text/plain": [
       "#<Set: {1, 2}>"
      ]
     },
     "execution_count": 23,
     "metadata": {},
     "output_type": "execute_result"
    }
   ],
   "source": [
    "rulebook.next_states(Set[1],'b')"
   ]
  },
  {
   "cell_type": "code",
   "execution_count": 24,
   "metadata": {},
   "outputs": [
    {
     "data": {
      "text/plain": [
       "#<Set: {1, 3}>"
      ]
     },
     "execution_count": 24,
     "metadata": {},
     "output_type": "execute_result"
    }
   ],
   "source": [
    "rulebook.next_states(Set[1,2],'a')"
   ]
  },
  {
   "cell_type": "code",
   "execution_count": 25,
   "metadata": {},
   "outputs": [
    {
     "data": {
      "text/plain": [
       "#<Set: {1, 2, 4}>"
      ]
     },
     "execution_count": 25,
     "metadata": {},
     "output_type": "execute_result"
    }
   ],
   "source": [
    "rulebook.next_states(Set[1,3],'b')"
   ]
  },
  {
   "cell_type": "code",
   "execution_count": 26,
   "metadata": {},
   "outputs": [
    {
     "data": {
      "text/plain": [
       ":current_states"
      ]
     },
     "execution_count": 26,
     "metadata": {},
     "output_type": "execute_result"
    }
   ],
   "source": [
    "class NFA < Struct.new(:current_states, :accept_states, :rulebook)\n",
    "  def accepting?\n",
    "    (current_states & accept_states).any?\n",
    "  end\n",
    "\n",
    "  def read_character(character)\n",
    "    self.current_states = rulebook.next_states(current_states, character)\n",
    "  end\n",
    "\n",
    "  def read_string(string)\n",
    "    string.chars.each do |character|\n",
    "      read_character(character)\n",
    "    end\n",
    "  end\n",
    "\n",
    "  def current_states\n",
    "    rulebook.follow_free_moves(super)\n",
    "  end\n",
    "end"
   ]
  },
  {
   "cell_type": "code",
   "execution_count": 27,
   "metadata": {},
   "outputs": [
    {
     "data": {
      "text/plain": [
       "false"
      ]
     },
     "execution_count": 27,
     "metadata": {},
     "output_type": "execute_result"
    }
   ],
   "source": [
    "NFA.new(Set[1],[4],rulebook).accepting?"
   ]
  },
  {
   "cell_type": "code",
   "execution_count": 28,
   "metadata": {},
   "outputs": [
    {
     "data": {
      "text/plain": [
       "true"
      ]
     },
     "execution_count": 28,
     "metadata": {},
     "output_type": "execute_result"
    }
   ],
   "source": [
    "NFA.new(Set[1,2,4],[4],rulebook).accepting?"
   ]
  },
  {
   "cell_type": "code",
   "execution_count": 29,
   "metadata": {},
   "outputs": [
    {
     "data": {
      "text/plain": [
       "true"
      ]
     },
     "execution_count": 29,
     "metadata": {},
     "output_type": "execute_result"
    }
   ],
   "source": [
    "NFA.new(Set[1,2,4],[4],rulebook).accepting?"
   ]
  },
  {
   "cell_type": "code",
   "execution_count": 30,
   "metadata": {},
   "outputs": [
    {
     "data": {
      "text/plain": [
       "#<struct NFA current_states=#<Set: {1}>, accept_states=[4], rulebook=#<struct NFARulebook rules=[#<FARule 1 --a--> 1>, #<FARule 1 --b--> 1>, #<FARule 1 --b--> 2>, #<FARule 2 --a--> 3>, #<FARule 2 --b--> 3>, #<FARule 3 --a--> 4>, #<FARule 3 --b--> 4>]>>"
      ]
     },
     "execution_count": 30,
     "metadata": {},
     "output_type": "execute_result"
    }
   ],
   "source": [
    "nfa = NFA.new(Set[1],[4],rulebook)"
   ]
  },
  {
   "cell_type": "code",
   "execution_count": 31,
   "metadata": {},
   "outputs": [
    {
     "data": {
      "text/plain": [
       "false"
      ]
     },
     "execution_count": 31,
     "metadata": {},
     "output_type": "execute_result"
    }
   ],
   "source": [
    "nfa.accepting?\n"
   ]
  },
  {
   "cell_type": "code",
   "execution_count": 32,
   "metadata": {},
   "outputs": [
    {
     "data": {
      "text/plain": [
       "#<Set: {1, 2}>"
      ]
     },
     "execution_count": 32,
     "metadata": {},
     "output_type": "execute_result"
    }
   ],
   "source": [
    "nfa.read_character('b')"
   ]
  },
  {
   "cell_type": "code",
   "execution_count": 33,
   "metadata": {},
   "outputs": [
    {
     "data": {
      "text/plain": [
       "false"
      ]
     },
     "execution_count": 33,
     "metadata": {},
     "output_type": "execute_result"
    }
   ],
   "source": [
    "nfa.accepting?\n"
   ]
  },
  {
   "cell_type": "code",
   "execution_count": 34,
   "metadata": {},
   "outputs": [
    {
     "data": {
      "text/plain": [
       "#<Set: {1, 3}>"
      ]
     },
     "execution_count": 34,
     "metadata": {},
     "output_type": "execute_result"
    }
   ],
   "source": [
    "nfa.read_character('a')"
   ]
  },
  {
   "cell_type": "code",
   "execution_count": 35,
   "metadata": {},
   "outputs": [
    {
     "data": {
      "text/plain": [
       "false"
      ]
     },
     "execution_count": 35,
     "metadata": {},
     "output_type": "execute_result"
    }
   ],
   "source": [
    "nfa.accepting?"
   ]
  },
  {
   "cell_type": "code",
   "execution_count": 36,
   "metadata": {},
   "outputs": [
    {
     "data": {
      "text/plain": [
       "#<Set: {1, 2, 4}>"
      ]
     },
     "execution_count": 36,
     "metadata": {},
     "output_type": "execute_result"
    }
   ],
   "source": [
    "nfa.read_character('b')"
   ]
  },
  {
   "cell_type": "code",
   "execution_count": 37,
   "metadata": {},
   "outputs": [
    {
     "data": {
      "text/plain": [
       "true"
      ]
     },
     "execution_count": 37,
     "metadata": {},
     "output_type": "execute_result"
    }
   ],
   "source": [
    "nfa.accepting?"
   ]
  },
  {
   "cell_type": "code",
   "execution_count": 38,
   "metadata": {},
   "outputs": [
    {
     "data": {
      "text/plain": [
       "#<struct NFA current_states=#<Set: {1}>, accept_states=[4], rulebook=#<struct NFARulebook rules=[#<FARule 1 --a--> 1>, #<FARule 1 --b--> 1>, #<FARule 1 --b--> 2>, #<FARule 2 --a--> 3>, #<FARule 2 --b--> 3>, #<FARule 3 --a--> 4>, #<FARule 3 --b--> 4>]>>"
      ]
     },
     "execution_count": 38,
     "metadata": {},
     "output_type": "execute_result"
    }
   ],
   "source": [
    "nfa = NFA.new(Set[1],[4],rulebook)"
   ]
  },
  {
   "cell_type": "code",
   "execution_count": 39,
   "metadata": {},
   "outputs": [
    {
     "data": {
      "text/plain": [
       "false"
      ]
     },
     "execution_count": 39,
     "metadata": {},
     "output_type": "execute_result"
    }
   ],
   "source": [
    "nfa.accepting?\n"
   ]
  },
  {
   "cell_type": "code",
   "execution_count": 40,
   "metadata": {},
   "outputs": [
    {
     "data": {
      "text/plain": [
       "[\"b\", \"b\", \"b\", \"b\", \"b\"]"
      ]
     },
     "execution_count": 40,
     "metadata": {},
     "output_type": "execute_result"
    }
   ],
   "source": [
    "nfa.read_string('bbbbb');\n"
   ]
  },
  {
   "cell_type": "code",
   "execution_count": 41,
   "metadata": {},
   "outputs": [
    {
     "data": {
      "text/plain": [
       "true"
      ]
     },
     "execution_count": 41,
     "metadata": {},
     "output_type": "execute_result"
    }
   ],
   "source": [
    "nfa.accepting?"
   ]
  },
  {
   "cell_type": "code",
   "execution_count": 42,
   "metadata": {},
   "outputs": [
    {
     "data": {
      "text/plain": [
       ":to_nfa"
      ]
     },
     "execution_count": 42,
     "metadata": {},
     "output_type": "execute_result"
    }
   ],
   "source": [
    "class NFADesign < Struct.new(:start_state, :accept_states, :rulebook)\n",
    "  def accepts?(string)\n",
    "    to_nfa.tap { |nfa| nfa.read_string(string) }.accepting?\n",
    "  end\n",
    "\n",
    "  def to_nfa(current_states = Set[start_state])\n",
    "    NFA.new(current_states, accept_states, rulebook)\n",
    "  end\n",
    "end"
   ]
  },
  {
   "cell_type": "code",
   "execution_count": 43,
   "metadata": {},
   "outputs": [
    {
     "data": {
      "text/plain": [
       "#<struct NFADesign start_state=1, accept_states=[4], rulebook=#<struct NFARulebook rules=[#<FARule 1 --a--> 1>, #<FARule 1 --b--> 1>, #<FARule 1 --b--> 2>, #<FARule 2 --a--> 3>, #<FARule 2 --b--> 3>, #<FARule 3 --a--> 4>, #<FARule 3 --b--> 4>]>>"
      ]
     },
     "execution_count": 43,
     "metadata": {},
     "output_type": "execute_result"
    }
   ],
   "source": [
    "nfa_design = NFADesign.new(1,[4],rulebook)"
   ]
  },
  {
   "cell_type": "code",
   "execution_count": 44,
   "metadata": {},
   "outputs": [
    {
     "data": {
      "text/plain": [
       "true"
      ]
     },
     "execution_count": 44,
     "metadata": {},
     "output_type": "execute_result"
    }
   ],
   "source": [
    "nfa_design.accepts?('bab')"
   ]
  },
  {
   "cell_type": "code",
   "execution_count": 45,
   "metadata": {},
   "outputs": [
    {
     "data": {
      "text/plain": [
       "true"
      ]
     },
     "execution_count": 45,
     "metadata": {},
     "output_type": "execute_result"
    }
   ],
   "source": [
    "nfa_design.accepts?('bbbbb')"
   ]
  },
  {
   "cell_type": "code",
   "execution_count": 46,
   "metadata": {},
   "outputs": [
    {
     "data": {
      "text/plain": [
       "false"
      ]
     },
     "execution_count": 46,
     "metadata": {},
     "output_type": "execute_result"
    }
   ],
   "source": [
    "nfa_design.accepts?('bbabb')"
   ]
  },
  {
   "cell_type": "markdown",
   "metadata": {},
   "source": [
    "## 应用正则表达式"
   ]
  },
  {
   "cell_type": "code",
   "execution_count": 47,
   "metadata": {},
   "outputs": [
    {
     "data": {
      "text/plain": [
       ":matches?"
      ]
     },
     "execution_count": 47,
     "metadata": {},
     "output_type": "execute_result"
    }
   ],
   "source": [
    "module Pattern  \n",
    "  def bracket(outer_precedence)\n",
    "    if precedence < outer_precedence\n",
    "      '(' + to_s + ')'\n",
    "    else\n",
    "      to_s\n",
    "    end\n",
    "  end\n",
    "\n",
    "  def inspect\n",
    "    \"/#{self}/\"\n",
    "  end\n",
    "\n",
    "  def matches?(string)\n",
    "    to_nfa_design.accepts?(string)\n",
    "  end\n",
    "end"
   ]
  },
  {
   "cell_type": "code",
   "execution_count": null,
   "metadata": {},
   "outputs": [],
   "source": []
  },
  {
   "cell_type": "code",
   "execution_count": 48,
   "metadata": {},
   "outputs": [
    {
     "data": {
      "text/plain": [
       ":to_nfa_design"
      ]
     },
     "execution_count": 48,
     "metadata": {},
     "output_type": "execute_result"
    }
   ],
   "source": [
    "class Empty\n",
    "  include Pattern\n",
    "  def to_s\n",
    "    ''\n",
    "  end\n",
    "\n",
    "  def precedence\n",
    "    3\n",
    "  end\n",
    "\n",
    "  def to_nfa_design\n",
    "    start_state = Object.new\n",
    "    accept_states = [start_state]\n",
    "    rulebook = NFARulebook.new([])\n",
    "\n",
    "    NFADesign.new(start_state, accept_states, rulebook)\n",
    "  end\n",
    "end"
   ]
  },
  {
   "cell_type": "code",
   "execution_count": 49,
   "metadata": {},
   "outputs": [
    {
     "data": {
      "text/plain": [
       ":to_nfa_design"
      ]
     },
     "execution_count": 49,
     "metadata": {},
     "output_type": "execute_result"
    }
   ],
   "source": [
    "class Literal < Struct.new(:character)\n",
    "  include Pattern\n",
    "  def to_s\n",
    "    character\n",
    "  end\n",
    "\n",
    "  def precedence\n",
    "    3\n",
    "  end\n",
    "\n",
    "  def to_nfa_design\n",
    "    start_state = Object.new\n",
    "    accept_state = Object.new\n",
    "    rule = FARule.new(start_state, character, accept_state)\n",
    "    rulebook = NFARulebook.new([rule])\n",
    "\n",
    "    NFADesign.new(start_state, [accept_state], rulebook)\n",
    "  end\n",
    "end"
   ]
  },
  {
   "cell_type": "code",
   "execution_count": 50,
   "metadata": {},
   "outputs": [
    {
     "data": {
      "text/plain": [
       ":to_nfa_design"
      ]
     },
     "execution_count": 50,
     "metadata": {},
     "output_type": "execute_result"
    }
   ],
   "source": [
    "class Concatenate < Struct.new(:first, :second)\n",
    "  include Pattern\n",
    "  def to_s\n",
    "    [first, second].map { |pattern| pattern.bracket(precedence) }.join\n",
    "  end\n",
    "\n",
    "  def precedence\n",
    "    1\n",
    "  end\n",
    "\n",
    "  def to_nfa_design\n",
    "    first_nfa_design = first.to_nfa_design\n",
    "    second_nfa_design = second.to_nfa_design\n",
    "\n",
    "    start_state = first_nfa_design.start_state\n",
    "    accept_states = second_nfa_design.accept_states\n",
    "    rules = first_nfa_design.rulebook.rules + second_nfa_design.rulebook.rules\n",
    "    extra_rules = first_nfa_design.accept_states.map { |state|\n",
    "      FARule.new(state, nil, second_nfa_design.start_state)\n",
    "    }\n",
    "    rulebook = NFARulebook.new(rules + extra_rules)\n",
    "\n",
    "    NFADesign.new(start_state, accept_states, rulebook)\n",
    "  end\n",
    "end"
   ]
  },
  {
   "cell_type": "code",
   "execution_count": 51,
   "metadata": {},
   "outputs": [
    {
     "data": {
      "text/plain": [
       ":to_nfa_design"
      ]
     },
     "execution_count": 51,
     "metadata": {},
     "output_type": "execute_result"
    }
   ],
   "source": [
    "class Choose < Struct.new(:first, :second)\n",
    "  include Pattern\n",
    "  def to_s\n",
    "    [first, second].map { |pattern| pattern.bracket(precedence) }.join('|')\n",
    "  end\n",
    "\n",
    "  def precedence\n",
    "    0\n",
    "  end\n",
    "\n",
    "  def to_nfa_design\n",
    "    first_nfa_design = first.to_nfa_design\n",
    "    second_nfa_design = second.to_nfa_design\n",
    "\n",
    "    start_state = Object.new\n",
    "    accept_states = first_nfa_design.accept_states + second_nfa_design.accept_states\n",
    "    rules = first_nfa_design.rulebook.rules + second_nfa_design.rulebook.rules\n",
    "    extra_rules = [first_nfa_design, second_nfa_design].map { |nfa_design|\n",
    "      FARule.new(start_state, nil, nfa_design.start_state)\n",
    "    }\n",
    "    rulebook = NFARulebook.new(rules + extra_rules)\n",
    "\n",
    "    NFADesign.new(start_state, accept_states, rulebook)\n",
    "  end\n",
    "end"
   ]
  },
  {
   "cell_type": "code",
   "execution_count": 52,
   "metadata": {},
   "outputs": [
    {
     "data": {
      "text/plain": [
       ":to_nfa_design"
      ]
     },
     "execution_count": 52,
     "metadata": {},
     "output_type": "execute_result"
    }
   ],
   "source": [
    "class Repeat < Struct.new(:pattern)\n",
    "  include Pattern\n",
    "  def to_s\n",
    "    pattern.bracket(precedence) + '*'\n",
    "  end\n",
    "\n",
    "  def precedence\n",
    "    2\n",
    "  end\n",
    "\n",
    "  def to_nfa_design\n",
    "    pattern_nfa_design = pattern.to_nfa_design\n",
    "\n",
    "    start_state = Object.new\n",
    "    accept_states = pattern_nfa_design.accept_states + [start_state]\n",
    "    rules = pattern_nfa_design.rulebook.rules\n",
    "    extra_rules =\n",
    "      pattern_nfa_design.accept_states.map { |accept_state|\n",
    "        FARule.new(accept_state, nil, pattern_nfa_design.start_state)\n",
    "      } +\n",
    "      [FARule.new(start_state, nil, pattern_nfa_design.start_state)]\n",
    "    rulebook = NFARulebook.new(rules + extra_rules)\n",
    "\n",
    "    NFADesign.new(start_state, accept_states, rulebook)\n",
    "  end\n",
    "end"
   ]
  },
  {
   "cell_type": "code",
   "execution_count": 53,
   "metadata": {},
   "outputs": [
    {
     "data": {
      "text/plain": [
       "/(ab|a)*/"
      ]
     },
     "execution_count": 53,
     "metadata": {},
     "output_type": "execute_result"
    }
   ],
   "source": [
    "pattern =\n",
    "  Repeat.new(\n",
    "    Choose.new(\n",
    "      Concatenate.new(Literal.new('a'), Literal.new('b')),\n",
    "      Literal.new('a')\n",
    "    )\n",
    "  )"
   ]
  },
  {
   "cell_type": "code",
   "execution_count": 54,
   "metadata": {},
   "outputs": [
    {
     "data": {
      "text/plain": [
       "#<struct NFADesign start_state=#<Object:0x00000000031274a8>, accept_states=[#<Object:0x00000000031274a8>], rulebook=#<struct NFARulebook rules=[]>>"
      ]
     },
     "execution_count": 54,
     "metadata": {},
     "output_type": "execute_result"
    }
   ],
   "source": [
    "nfa_design = Empty.new.to_nfa_design"
   ]
  },
  {
   "cell_type": "code",
   "execution_count": 55,
   "metadata": {},
   "outputs": [
    {
     "data": {
      "text/plain": [
       "true"
      ]
     },
     "execution_count": 55,
     "metadata": {},
     "output_type": "execute_result"
    }
   ],
   "source": [
    "nfa_design.accepts?('')"
   ]
  },
  {
   "cell_type": "code",
   "execution_count": 56,
   "metadata": {},
   "outputs": [
    {
     "data": {
      "text/plain": [
       "false"
      ]
     },
     "execution_count": 56,
     "metadata": {},
     "output_type": "execute_result"
    }
   ],
   "source": [
    "nfa_design.accepts?('a')"
   ]
  },
  {
   "cell_type": "code",
   "execution_count": 57,
   "metadata": {},
   "outputs": [
    {
     "data": {
      "text/plain": [
       "false"
      ]
     },
     "execution_count": 57,
     "metadata": {},
     "output_type": "execute_result"
    }
   ],
   "source": [
    "nfa_design = Literal.new('a').to_nfa_design\n",
    "nfa_design.accepts?('')\n",
    "nfa_design.accepts?('a')\n",
    "nfa_design.accepts?('b')"
   ]
  },
  {
   "cell_type": "markdown",
   "metadata": {},
   "source": []
  },
  {
   "cell_type": "code",
   "execution_count": 58,
   "metadata": {},
   "outputs": [
    {
     "data": {
      "text/plain": [
       "\"(ab|a)*\""
      ]
     },
     "execution_count": 58,
     "metadata": {},
     "output_type": "execute_result"
    }
   ],
   "source": [
    "pattern.to_s"
   ]
  },
  {
   "cell_type": "code",
   "execution_count": 59,
   "metadata": {},
   "outputs": [
    {
     "data": {
      "text/plain": [
       "#<struct NFADesign start_state=#<Object:0x00000000031d3af0>, accept_states=[#<Object:0x00000000031d3af0>], rulebook=#<struct NFARulebook rules=[]>>"
      ]
     },
     "execution_count": 59,
     "metadata": {},
     "output_type": "execute_result"
    }
   ],
   "source": [
    "nfa_design = Empty.new.to_nfa_design"
   ]
  },
  {
   "cell_type": "code",
   "execution_count": 60,
   "metadata": {},
   "outputs": [
    {
     "data": {
      "text/plain": [
       "true"
      ]
     },
     "execution_count": 60,
     "metadata": {},
     "output_type": "execute_result"
    }
   ],
   "source": [
    "nfa_design.accepts?('')"
   ]
  },
  {
   "cell_type": "code",
   "execution_count": 61,
   "metadata": {},
   "outputs": [
    {
     "data": {
      "text/plain": [
       "false"
      ]
     },
     "execution_count": 61,
     "metadata": {},
     "output_type": "execute_result"
    }
   ],
   "source": [
    "nfa_design.accepts?('a')"
   ]
  },
  {
   "cell_type": "code",
   "execution_count": 62,
   "metadata": {},
   "outputs": [
    {
     "data": {
      "text/plain": [
       "#<struct NFADesign start_state=#<Object:0x00000000032a9308>, accept_states=[#<Object:0x00000000032a92e0>], rulebook=#<struct NFARulebook rules=[#<FARule #<Object:0x00000000032a9308> --a--> #<Object:0x00000000032a92e0>>]>>"
      ]
     },
     "execution_count": 62,
     "metadata": {},
     "output_type": "execute_result"
    }
   ],
   "source": [
    "nfa_design = Literal.new('a').to_nfa_design"
   ]
  },
  {
   "cell_type": "code",
   "execution_count": 63,
   "metadata": {},
   "outputs": [
    {
     "data": {
      "text/plain": [
       "false"
      ]
     },
     "execution_count": 63,
     "metadata": {},
     "output_type": "execute_result"
    }
   ],
   "source": [
    "nfa_design.accepts?('')"
   ]
  },
  {
   "cell_type": "code",
   "execution_count": 64,
   "metadata": {},
   "outputs": [
    {
     "data": {
      "text/plain": [
       "true"
      ]
     },
     "execution_count": 64,
     "metadata": {},
     "output_type": "execute_result"
    }
   ],
   "source": [
    "nfa_design.accepts?('a')"
   ]
  },
  {
   "cell_type": "code",
   "execution_count": 65,
   "metadata": {},
   "outputs": [
    {
     "data": {
      "text/plain": [
       "false"
      ]
     },
     "execution_count": 65,
     "metadata": {},
     "output_type": "execute_result"
    }
   ],
   "source": [
    "nfa_design.accepts?('b')"
   ]
  },
  {
   "cell_type": "code",
   "execution_count": 66,
   "metadata": {},
   "outputs": [
    {
     "data": {
      "text/plain": [
       "false"
      ]
     },
     "execution_count": 66,
     "metadata": {},
     "output_type": "execute_result"
    }
   ],
   "source": [
    "Empty.new.matches?('a')"
   ]
  },
  {
   "cell_type": "code",
   "execution_count": 67,
   "metadata": {},
   "outputs": [
    {
     "data": {
      "text/plain": [
       "/ab/"
      ]
     },
     "execution_count": 67,
     "metadata": {},
     "output_type": "execute_result"
    }
   ],
   "source": [
    "pattern = Concatenate.new(Literal.new('a'), Literal.new('b'))"
   ]
  },
  {
   "cell_type": "code",
   "execution_count": 68,
   "metadata": {},
   "outputs": [
    {
     "data": {
      "text/plain": [
       "\"ab\""
      ]
     },
     "execution_count": 68,
     "metadata": {},
     "output_type": "execute_result"
    }
   ],
   "source": [
    "pattern.to_s\n"
   ]
  },
  {
   "cell_type": "code",
   "execution_count": 69,
   "metadata": {},
   "outputs": [
    {
     "data": {
      "text/plain": [
       "false"
      ]
     },
     "execution_count": 69,
     "metadata": {},
     "output_type": "execute_result"
    }
   ],
   "source": [
    "pattern.matches?('a')"
   ]
  },
  {
   "cell_type": "code",
   "execution_count": 70,
   "metadata": {},
   "outputs": [
    {
     "data": {
      "text/plain": [
       "true"
      ]
     },
     "execution_count": 70,
     "metadata": {},
     "output_type": "execute_result"
    }
   ],
   "source": [
    "pattern.matches?('ab')"
   ]
  },
  {
   "cell_type": "code",
   "execution_count": 71,
   "metadata": {},
   "outputs": [
    {
     "data": {
      "text/plain": [
       "/a|b/"
      ]
     },
     "execution_count": 71,
     "metadata": {},
     "output_type": "execute_result"
    }
   ],
   "source": [
    "pattern = Choose.new(Literal.new('a'), Literal.new('b'))"
   ]
  },
  {
   "cell_type": "code",
   "execution_count": 72,
   "metadata": {},
   "outputs": [
    {
     "data": {
      "text/plain": [
       "\"a|b\""
      ]
     },
     "execution_count": 72,
     "metadata": {},
     "output_type": "execute_result"
    }
   ],
   "source": [
    "pattern.to_s\n"
   ]
  },
  {
   "cell_type": "code",
   "execution_count": 73,
   "metadata": {},
   "outputs": [
    {
     "data": {
      "text/plain": [
       "Repeat"
      ]
     },
     "execution_count": 73,
     "metadata": {},
     "output_type": "execute_result"
    }
   ],
   "source": [
    "Repeat\n"
   ]
  },
  {
   "cell_type": "code",
   "execution_count": 74,
   "metadata": {},
   "outputs": [
    {
     "data": {
      "text/plain": [
       "/(a(|b))*/"
      ]
     },
     "execution_count": 74,
     "metadata": {},
     "output_type": "execute_result"
    }
   ],
   "source": [
    "pattern =\n",
    "  Repeat.new(\n",
    "    Concatenate.new(\n",
    "      Literal.new('a'),\n",
    "      Choose.new(Empty.new, Literal.new('b'))\n",
    "    )\n",
    "  )"
   ]
  },
  {
   "cell_type": "code",
   "execution_count": 75,
   "metadata": {},
   "outputs": [
    {
     "data": {
      "text/plain": [
       "true"
      ]
     },
     "execution_count": 75,
     "metadata": {},
     "output_type": "execute_result"
    }
   ],
   "source": [
    "pattern.matches?('ab')"
   ]
  },
  {
   "cell_type": "code",
   "execution_count": 76,
   "metadata": {},
   "outputs": [
    {
     "data": {
      "text/plain": [
       "true"
      ]
     },
     "execution_count": 76,
     "metadata": {},
     "output_type": "execute_result"
    }
   ],
   "source": [
    "require 'treetop'"
   ]
  },
  {
   "cell_type": "code",
   "execution_count": 77,
   "metadata": {},
   "outputs": [
    {
     "data": {
      "text/plain": [
       "\"grammar Pattern\\n  rule choose\\n    first:concatenate_or_empty '|' rest:choose {\\n      def to_ast\\n        Choose.new(first.to_ast, rest.to_ast)\\n      end\\n    }\\n    /\\n    concatenate_or_empty\\n  end\\n\\n  rule concatenate_or_empty\\n    concatenate / empty\\n  end\\n\\n  rule concatenate\\n    first:repeat rest:concatenate {\\n      def to_ast\\n        Concatenate.new(first.to_ast, rest.to_ast)\\n      end\\n    }\\n    /\\n    repeat\\n  end\\n\\n  rule empty\\n    '' {\\n      def to_ast\\n        Empty.new\\n      end\\n    }\\n  end\\n\\n  rule repeat\\n    brackets '*' {\\n      def to_ast\\n        Repeat.new(brackets.to_ast)\\n      end\\n    }\\n    /\\n    brackets\\n  end\\n\\n  rule brackets\\n    '(' choose ')' {\\n      def to_ast\\n        choose.to_ast\\n      end\\n    }\\n    /\\n    literal\\n  end\\n\\n  rule literal\\n    [a-z] {\\n      def to_ast\\n        Literal.new(text_value)\\n      end\\n    }\\n  end\\nend\""
      ]
     },
     "execution_count": 77,
     "metadata": {},
     "output_type": "execute_result"
    }
   ],
   "source": [
    "pattern = \"grammar Pattern\n",
    "  rule choose\n",
    "    first:concatenate_or_empty '|' rest:choose {\n",
    "      def to_ast\n",
    "        Choose.new(first.to_ast, rest.to_ast)\n",
    "      end\n",
    "    }\n",
    "    /\n",
    "    concatenate_or_empty\n",
    "  end\n",
    "\n",
    "  rule concatenate_or_empty\n",
    "    concatenate / empty\n",
    "  end\n",
    "\n",
    "  rule concatenate\n",
    "    first:repeat rest:concatenate {\n",
    "      def to_ast\n",
    "        Concatenate.new(first.to_ast, rest.to_ast)\n",
    "      end\n",
    "    }\n",
    "    /\n",
    "    repeat\n",
    "  end\n",
    "\n",
    "  rule empty\n",
    "    '' {\n",
    "      def to_ast\n",
    "        Empty.new\n",
    "      end\n",
    "    }\n",
    "  end\n",
    "\n",
    "  rule repeat\n",
    "    brackets '*' {\n",
    "      def to_ast\n",
    "        Repeat.new(brackets.to_ast)\n",
    "      end\n",
    "    }\n",
    "    /\n",
    "    brackets\n",
    "  end\n",
    "\n",
    "  rule brackets\n",
    "    '(' choose ')' {\n",
    "      def to_ast\n",
    "        choose.to_ast\n",
    "      end\n",
    "    }\n",
    "    /\n",
    "    literal\n",
    "  end\n",
    "\n",
    "  rule literal\n",
    "    [a-z] {\n",
    "      def to_ast\n",
    "        Literal.new(text_value)\n",
    "      end\n",
    "    }\n",
    "  end\n",
    "end\"\n",
    "\n"
   ]
  },
  {
   "cell_type": "code",
   "execution_count": 78,
   "metadata": {},
   "outputs": [
    {
     "data": {
      "text/plain": [
       "PatternParser"
      ]
     },
     "execution_count": 78,
     "metadata": {},
     "output_type": "execute_result"
    }
   ],
   "source": [
    "Treetop.load_from_string(pattern)"
   ]
  },
  {
   "cell_type": "code",
   "execution_count": 79,
   "metadata": {},
   "outputs": [
    {
     "data": {
      "text/plain": [
       "false"
      ]
     },
     "execution_count": 79,
     "metadata": {},
     "output_type": "execute_result"
    }
   ],
   "source": [
    "parse_tree = PatternParser.new.parse('(a(|b))*')\n",
    "pattern = parse_tree.to_ast\n",
    "\n",
    "\n",
    "pattern.matches?('abba')"
   ]
  },
  {
   "cell_type": "code",
   "execution_count": 80,
   "metadata": {},
   "outputs": [
    {
     "data": {
      "text/plain": [
       "true"
      ]
     },
     "execution_count": 80,
     "metadata": {},
     "output_type": "execute_result"
    }
   ],
   "source": [
    "pattern.matches?('abaab')"
   ]
  },
  {
   "cell_type": "markdown",
   "metadata": {},
   "source": [
    "## 等价性"
   ]
  },
  {
   "cell_type": "code",
   "execution_count": null,
   "metadata": {},
   "outputs": [],
   "source": []
  },
  {
   "cell_type": "code",
   "execution_count": null,
   "metadata": {},
   "outputs": [],
   "source": []
  },
  {
   "cell_type": "code",
   "execution_count": null,
   "metadata": {},
   "outputs": [],
   "source": []
  },
  {
   "cell_type": "code",
   "execution_count": 81,
   "metadata": {},
   "outputs": [
    {
     "data": {
      "text/plain": [
       "#<struct NFARulebook rules=[#<FARule 1 --a--> 1>, #<FARule 1 --a--> 2>, #<FARule 1 ----> 2>, #<FARule 2 --b--> 3>, #<FARule 3 --b--> 1>, #<FARule 3 ----> 2>]>"
      ]
     },
     "execution_count": 81,
     "metadata": {},
     "output_type": "execute_result"
    }
   ],
   "source": [
    "\n",
    "rulebook = NFARulebook.new([\n",
    "  FARule.new(1, 'a', 1), FARule.new(1, 'a', 2), FARule.new(1, nil, 2),\n",
    "  FARule.new(2, 'b', 3),\n",
    "  FARule.new(3, 'b', 1), FARule.new(3, nil, 2)\n",
    "])"
   ]
  },
  {
   "cell_type": "code",
   "execution_count": 82,
   "metadata": {},
   "outputs": [
    {
     "data": {
      "text/plain": [
       "#<struct NFADesign start_state=1, accept_states=[3], rulebook=#<struct NFARulebook rules=[#<FARule 1 --a--> 1>, #<FARule 1 --a--> 2>, #<FARule 1 ----> 2>, #<FARule 2 --b--> 3>, #<FARule 3 --b--> 1>, #<FARule 3 ----> 2>]>>"
      ]
     },
     "execution_count": 82,
     "metadata": {},
     "output_type": "execute_result"
    }
   ],
   "source": [
    "nfa_design = NFADesign.new(1, [3], rulebook)"
   ]
  },
  {
   "cell_type": "code",
   "execution_count": null,
   "metadata": {},
   "outputs": [],
   "source": []
  },
  {
   "cell_type": "code",
   "execution_count": 83,
   "metadata": {},
   "outputs": [
    {
     "data": {
      "text/plain": [
       "#<Set: {1, 2}>"
      ]
     },
     "execution_count": 83,
     "metadata": {},
     "output_type": "execute_result"
    }
   ],
   "source": [
    "nfa_design.to_nfa.current_states"
   ]
  },
  {
   "cell_type": "code",
   "execution_count": 84,
   "metadata": {},
   "outputs": [
    {
     "data": {
      "text/plain": [
       "#<Set: {2}>"
      ]
     },
     "execution_count": 84,
     "metadata": {},
     "output_type": "execute_result"
    }
   ],
   "source": [
    "nfa_design.to_nfa(Set[2]).current_states"
   ]
  },
  {
   "cell_type": "code",
   "execution_count": 85,
   "metadata": {},
   "outputs": [
    {
     "data": {
      "text/plain": [
       "#<Set: {3, 2}>"
      ]
     },
     "execution_count": 85,
     "metadata": {},
     "output_type": "execute_result"
    }
   ],
   "source": [
    "nfa_design.to_nfa(Set[3]).current_states"
   ]
  },
  {
   "cell_type": "code",
   "execution_count": 86,
   "metadata": {},
   "outputs": [
    {
     "data": {
      "text/plain": [
       "#<struct NFA current_states=#<Set: {2, 3}>, accept_states=[3], rulebook=#<struct NFARulebook rules=[#<FARule 1 --a--> 1>, #<FARule 1 --a--> 2>, #<FARule 1 ----> 2>, #<FARule 2 --b--> 3>, #<FARule 3 --b--> 1>, #<FARule 3 ----> 2>]>>"
      ]
     },
     "execution_count": 86,
     "metadata": {},
     "output_type": "execute_result"
    }
   ],
   "source": [
    "nfa = nfa_design.to_nfa(Set[2, 3])"
   ]
  },
  {
   "cell_type": "code",
   "execution_count": 87,
   "metadata": {},
   "outputs": [
    {
     "data": {
      "text/plain": [
       "#<Set: {3, 1, 2}>"
      ]
     },
     "execution_count": 87,
     "metadata": {},
     "output_type": "execute_result"
    }
   ],
   "source": [
    "nfa.read_character('b'); nfa.current_states"
   ]
  },
  {
   "cell_type": "code",
   "execution_count": 88,
   "metadata": {},
   "outputs": [
    {
     "ename": "TypeError",
     "evalue": "superclass mismatch for class DFADesign",
     "output_type": "error",
     "traceback": [
      "\u001b[31mTypeError\u001b[0m: superclass mismatch for class DFADesign",
      "\u001b[37m<main>:1:in `<main>'\u001b[0m",
      "\u001b[37m/home/linuxbrew/.linuxbrew/lib/ruby/gems/2.6.0/gems/iruby-0.3/lib/iruby/backend.rb:44:in `eval'\u001b[0m",
      "\u001b[37m/home/linuxbrew/.linuxbrew/lib/ruby/gems/2.6.0/gems/iruby-0.3/lib/iruby/backend.rb:44:in `eval'\u001b[0m",
      "\u001b[37m/home/linuxbrew/.linuxbrew/lib/ruby/gems/2.6.0/gems/iruby-0.3/lib/iruby/backend.rb:12:in `eval'\u001b[0m",
      "\u001b[37m/home/linuxbrew/.linuxbrew/lib/ruby/gems/2.6.0/gems/iruby-0.3/lib/iruby/kernel.rb:87:in `execute_request'\u001b[0m",
      "\u001b[37m/home/linuxbrew/.linuxbrew/lib/ruby/gems/2.6.0/gems/iruby-0.3/lib/iruby/kernel.rb:47:in `dispatch'\u001b[0m",
      "\u001b[37m/home/linuxbrew/.linuxbrew/lib/ruby/gems/2.6.0/gems/iruby-0.3/lib/iruby/kernel.rb:37:in `run'\u001b[0m",
      "\u001b[37m/home/linuxbrew/.linuxbrew/lib/ruby/gems/2.6.0/gems/iruby-0.3/lib/iruby/command.rb:70:in `run_kernel'\u001b[0m",
      "\u001b[37m/home/linuxbrew/.linuxbrew/lib/ruby/gems/2.6.0/gems/iruby-0.3/lib/iruby/command.rb:34:in `run'\u001b[0m",
      "\u001b[37m/home/linuxbrew/.linuxbrew/lib/ruby/gems/2.6.0/gems/iruby-0.3/bin/iruby:5:in `<top (required)>'\u001b[0m",
      "\u001b[37m/home/linuxbrew/.linuxbrew/bin/iruby:23:in `load'\u001b[0m",
      "\u001b[37m/home/linuxbrew/.linuxbrew/bin/iruby:23:in `<main>'\u001b[0m"
     ]
    }
   ],
   "source": [
    "\n",
    "class DFADesign < Struct.new(:start_state, :accept_states, :rulebook)\n",
    "  def to_dfa\n",
    "    DFA.new(start_state, accept_states, rulebook)\n",
    "  end\n",
    "\n",
    "  def accepts?(string)\n",
    "    to_dfa.tap { |dfa| dfa.read_string(string) }.accepting?\n",
    "  end\n",
    "end\n",
    "\n",
    "\n",
    "class NFASimulation < Struct.new(:nfa_design)\n",
    "  def next_state(state, character)\n",
    "    nfa_design.to_nfa(state).tap { |nfa|\n",
    "      nfa.read_character(character)\n",
    "    }.current_states\n",
    "  end\n",
    "\n",
    "  def rules_for(state)\n",
    "    nfa_design.rulebook.alphabet.map { |character|\n",
    "      FARule.new(state, character, next_state(state, character))\n",
    "    }\n",
    "  end\n",
    "\n",
    "  def discover_states_and_rules(states)\n",
    "    rules = states.flat_map { |state| rules_for(state) }\n",
    "    more_states = rules.map(&:follow).to_set\n",
    "\n",
    "    if more_states.subset?(states)\n",
    "      [states, rules]\n",
    "    else\n",
    "      discover_states_and_rules(states + more_states)\n",
    "    end\n",
    "  end\n",
    "\n",
    "  def to_dfa_design\n",
    "    start_state   = nfa_design.to_nfa.current_states\n",
    "    states, rules = discover_states_and_rules(Set[start_state])\n",
    "    accept_states = states.select { |state| nfa_design.to_nfa(state).accepting? }\n",
    "\n",
    "    DFADesign.new(start_state, accept_states, DFARulebook.new(rules))\n",
    "  end\n",
    "end"
   ]
  },
  {
   "cell_type": "code",
   "execution_count": 89,
   "metadata": {},
   "outputs": [
    {
     "ename": "NameError",
     "evalue": "uninitialized constant NFASimulation",
     "output_type": "error",
     "traceback": [
      "\u001b[31mNameError\u001b[0m: uninitialized constant NFASimulation",
      "\u001b[37m<main>:in `<main>'\u001b[0m",
      "\u001b[37m/home/linuxbrew/.linuxbrew/lib/ruby/gems/2.6.0/gems/iruby-0.3/lib/iruby/backend.rb:44:in `eval'\u001b[0m",
      "\u001b[37m/home/linuxbrew/.linuxbrew/lib/ruby/gems/2.6.0/gems/iruby-0.3/lib/iruby/backend.rb:44:in `eval'\u001b[0m",
      "\u001b[37m/home/linuxbrew/.linuxbrew/lib/ruby/gems/2.6.0/gems/iruby-0.3/lib/iruby/backend.rb:12:in `eval'\u001b[0m",
      "\u001b[37m/home/linuxbrew/.linuxbrew/lib/ruby/gems/2.6.0/gems/iruby-0.3/lib/iruby/kernel.rb:87:in `execute_request'\u001b[0m",
      "\u001b[37m/home/linuxbrew/.linuxbrew/lib/ruby/gems/2.6.0/gems/iruby-0.3/lib/iruby/kernel.rb:47:in `dispatch'\u001b[0m",
      "\u001b[37m/home/linuxbrew/.linuxbrew/lib/ruby/gems/2.6.0/gems/iruby-0.3/lib/iruby/kernel.rb:37:in `run'\u001b[0m",
      "\u001b[37m/home/linuxbrew/.linuxbrew/lib/ruby/gems/2.6.0/gems/iruby-0.3/lib/iruby/command.rb:70:in `run_kernel'\u001b[0m",
      "\u001b[37m/home/linuxbrew/.linuxbrew/lib/ruby/gems/2.6.0/gems/iruby-0.3/lib/iruby/command.rb:34:in `run'\u001b[0m",
      "\u001b[37m/home/linuxbrew/.linuxbrew/lib/ruby/gems/2.6.0/gems/iruby-0.3/bin/iruby:5:in `<top (required)>'\u001b[0m",
      "\u001b[37m/home/linuxbrew/.linuxbrew/bin/iruby:23:in `load'\u001b[0m",
      "\u001b[37m/home/linuxbrew/.linuxbrew/bin/iruby:23:in `<main>'\u001b[0m"
     ]
    }
   ],
   "source": [
    "simulation = NFASimulation.new(nfa_design)\n",
    "simulation.next_state(Set[1, 2], 'a')"
   ]
  },
  {
   "cell_type": "code",
   "execution_count": 90,
   "metadata": {},
   "outputs": [
    {
     "ename": "NoMethodError",
     "evalue": "undefined method `next_state' for nil:NilClass",
     "output_type": "error",
     "traceback": [
      "\u001b[31mNoMethodError\u001b[0m: undefined method `next_state' for nil:NilClass",
      "\u001b[37m<main>:in `<main>'\u001b[0m",
      "\u001b[37m/home/linuxbrew/.linuxbrew/lib/ruby/gems/2.6.0/gems/iruby-0.3/lib/iruby/backend.rb:44:in `eval'\u001b[0m",
      "\u001b[37m/home/linuxbrew/.linuxbrew/lib/ruby/gems/2.6.0/gems/iruby-0.3/lib/iruby/backend.rb:44:in `eval'\u001b[0m",
      "\u001b[37m/home/linuxbrew/.linuxbrew/lib/ruby/gems/2.6.0/gems/iruby-0.3/lib/iruby/backend.rb:12:in `eval'\u001b[0m",
      "\u001b[37m/home/linuxbrew/.linuxbrew/lib/ruby/gems/2.6.0/gems/iruby-0.3/lib/iruby/kernel.rb:87:in `execute_request'\u001b[0m",
      "\u001b[37m/home/linuxbrew/.linuxbrew/lib/ruby/gems/2.6.0/gems/iruby-0.3/lib/iruby/kernel.rb:47:in `dispatch'\u001b[0m",
      "\u001b[37m/home/linuxbrew/.linuxbrew/lib/ruby/gems/2.6.0/gems/iruby-0.3/lib/iruby/kernel.rb:37:in `run'\u001b[0m",
      "\u001b[37m/home/linuxbrew/.linuxbrew/lib/ruby/gems/2.6.0/gems/iruby-0.3/lib/iruby/command.rb:70:in `run_kernel'\u001b[0m",
      "\u001b[37m/home/linuxbrew/.linuxbrew/lib/ruby/gems/2.6.0/gems/iruby-0.3/lib/iruby/command.rb:34:in `run'\u001b[0m",
      "\u001b[37m/home/linuxbrew/.linuxbrew/lib/ruby/gems/2.6.0/gems/iruby-0.3/bin/iruby:5:in `<top (required)>'\u001b[0m",
      "\u001b[37m/home/linuxbrew/.linuxbrew/bin/iruby:23:in `load'\u001b[0m",
      "\u001b[37m/home/linuxbrew/.linuxbrew/bin/iruby:23:in `<main>'\u001b[0m"
     ]
    }
   ],
   "source": [
    "simulation.next_state(Set[1, 2], 'b')"
   ]
  },
  {
   "cell_type": "code",
   "execution_count": 91,
   "metadata": {},
   "outputs": [
    {
     "ename": "NoMethodError",
     "evalue": "undefined method `next_state' for nil:NilClass",
     "output_type": "error",
     "traceback": [
      "\u001b[31mNoMethodError\u001b[0m: undefined method `next_state' for nil:NilClass",
      "\u001b[37m<main>:in `<main>'\u001b[0m",
      "\u001b[37m/home/linuxbrew/.linuxbrew/lib/ruby/gems/2.6.0/gems/iruby-0.3/lib/iruby/backend.rb:44:in `eval'\u001b[0m",
      "\u001b[37m/home/linuxbrew/.linuxbrew/lib/ruby/gems/2.6.0/gems/iruby-0.3/lib/iruby/backend.rb:44:in `eval'\u001b[0m",
      "\u001b[37m/home/linuxbrew/.linuxbrew/lib/ruby/gems/2.6.0/gems/iruby-0.3/lib/iruby/backend.rb:12:in `eval'\u001b[0m",
      "\u001b[37m/home/linuxbrew/.linuxbrew/lib/ruby/gems/2.6.0/gems/iruby-0.3/lib/iruby/kernel.rb:87:in `execute_request'\u001b[0m",
      "\u001b[37m/home/linuxbrew/.linuxbrew/lib/ruby/gems/2.6.0/gems/iruby-0.3/lib/iruby/kernel.rb:47:in `dispatch'\u001b[0m",
      "\u001b[37m/home/linuxbrew/.linuxbrew/lib/ruby/gems/2.6.0/gems/iruby-0.3/lib/iruby/kernel.rb:37:in `run'\u001b[0m",
      "\u001b[37m/home/linuxbrew/.linuxbrew/lib/ruby/gems/2.6.0/gems/iruby-0.3/lib/iruby/command.rb:70:in `run_kernel'\u001b[0m",
      "\u001b[37m/home/linuxbrew/.linuxbrew/lib/ruby/gems/2.6.0/gems/iruby-0.3/lib/iruby/command.rb:34:in `run'\u001b[0m",
      "\u001b[37m/home/linuxbrew/.linuxbrew/lib/ruby/gems/2.6.0/gems/iruby-0.3/bin/iruby:5:in `<top (required)>'\u001b[0m",
      "\u001b[37m/home/linuxbrew/.linuxbrew/bin/iruby:23:in `load'\u001b[0m",
      "\u001b[37m/home/linuxbrew/.linuxbrew/bin/iruby:23:in `<main>'\u001b[0m"
     ]
    }
   ],
   "source": [
    "simulation.next_state(Set[3, 2], 'b')\n",
    "simulation.next_state(Set[1, 3, 2], 'b')\n",
    "simulation.next_state(Set[1, 3, 2], 'a')"
   ]
  },
  {
   "cell_type": "code",
   "execution_count": 92,
   "metadata": {},
   "outputs": [
    {
     "ename": "NoMethodError",
     "evalue": "undefined method `rules_for' for nil:NilClass",
     "output_type": "error",
     "traceback": [
      "\u001b[31mNoMethodError\u001b[0m: undefined method `rules_for' for nil:NilClass",
      "\u001b[37m<main>:1:in `<main>'\u001b[0m",
      "\u001b[37m/home/linuxbrew/.linuxbrew/lib/ruby/gems/2.6.0/gems/iruby-0.3/lib/iruby/backend.rb:44:in `eval'\u001b[0m",
      "\u001b[37m/home/linuxbrew/.linuxbrew/lib/ruby/gems/2.6.0/gems/iruby-0.3/lib/iruby/backend.rb:44:in `eval'\u001b[0m",
      "\u001b[37m/home/linuxbrew/.linuxbrew/lib/ruby/gems/2.6.0/gems/iruby-0.3/lib/iruby/backend.rb:12:in `eval'\u001b[0m",
      "\u001b[37m/home/linuxbrew/.linuxbrew/lib/ruby/gems/2.6.0/gems/iruby-0.3/lib/iruby/kernel.rb:87:in `execute_request'\u001b[0m",
      "\u001b[37m/home/linuxbrew/.linuxbrew/lib/ruby/gems/2.6.0/gems/iruby-0.3/lib/iruby/kernel.rb:47:in `dispatch'\u001b[0m",
      "\u001b[37m/home/linuxbrew/.linuxbrew/lib/ruby/gems/2.6.0/gems/iruby-0.3/lib/iruby/kernel.rb:37:in `run'\u001b[0m",
      "\u001b[37m/home/linuxbrew/.linuxbrew/lib/ruby/gems/2.6.0/gems/iruby-0.3/lib/iruby/command.rb:70:in `run_kernel'\u001b[0m",
      "\u001b[37m/home/linuxbrew/.linuxbrew/lib/ruby/gems/2.6.0/gems/iruby-0.3/lib/iruby/command.rb:34:in `run'\u001b[0m",
      "\u001b[37m/home/linuxbrew/.linuxbrew/lib/ruby/gems/2.6.0/gems/iruby-0.3/bin/iruby:5:in `<top (required)>'\u001b[0m",
      "\u001b[37m/home/linuxbrew/.linuxbrew/bin/iruby:23:in `load'\u001b[0m",
      "\u001b[37m/home/linuxbrew/.linuxbrew/bin/iruby:23:in `<main>'\u001b[0m"
     ]
    }
   ],
   "source": [
    "rulebook.alphabet\n",
    "simulation.rules_for(Set[1, 2])"
   ]
  },
  {
   "cell_type": "code",
   "execution_count": 93,
   "metadata": {},
   "outputs": [
    {
     "ename": "NoMethodError",
     "evalue": "undefined method `discover_states_and_rules' for nil:NilClass",
     "output_type": "error",
     "traceback": [
      "\u001b[31mNoMethodError\u001b[0m: undefined method `discover_states_and_rules' for nil:NilClass",
      "\u001b[37m<main>:4:in `<main>'\u001b[0m",
      "\u001b[37m/home/linuxbrew/.linuxbrew/lib/ruby/gems/2.6.0/gems/iruby-0.3/lib/iruby/backend.rb:44:in `eval'\u001b[0m",
      "\u001b[37m/home/linuxbrew/.linuxbrew/lib/ruby/gems/2.6.0/gems/iruby-0.3/lib/iruby/backend.rb:44:in `eval'\u001b[0m",
      "\u001b[37m/home/linuxbrew/.linuxbrew/lib/ruby/gems/2.6.0/gems/iruby-0.3/lib/iruby/backend.rb:12:in `eval'\u001b[0m",
      "\u001b[37m/home/linuxbrew/.linuxbrew/lib/ruby/gems/2.6.0/gems/iruby-0.3/lib/iruby/kernel.rb:87:in `execute_request'\u001b[0m",
      "\u001b[37m/home/linuxbrew/.linuxbrew/lib/ruby/gems/2.6.0/gems/iruby-0.3/lib/iruby/kernel.rb:47:in `dispatch'\u001b[0m",
      "\u001b[37m/home/linuxbrew/.linuxbrew/lib/ruby/gems/2.6.0/gems/iruby-0.3/lib/iruby/kernel.rb:37:in `run'\u001b[0m",
      "\u001b[37m/home/linuxbrew/.linuxbrew/lib/ruby/gems/2.6.0/gems/iruby-0.3/lib/iruby/command.rb:70:in `run_kernel'\u001b[0m",
      "\u001b[37m/home/linuxbrew/.linuxbrew/lib/ruby/gems/2.6.0/gems/iruby-0.3/lib/iruby/command.rb:34:in `run'\u001b[0m",
      "\u001b[37m/home/linuxbrew/.linuxbrew/lib/ruby/gems/2.6.0/gems/iruby-0.3/bin/iruby:5:in `<top (required)>'\u001b[0m",
      "\u001b[37m/home/linuxbrew/.linuxbrew/bin/iruby:23:in `load'\u001b[0m",
      "\u001b[37m/home/linuxbrew/.linuxbrew/bin/iruby:23:in `<main>'\u001b[0m"
     ]
    }
   ],
   "source": [
    "\n",
    "\n",
    "\n",
    "start_state = nfa_design.to_nfa.current_states\n",
    "simulation.discover_states_and_rules(Set[start_state])\n",
    "nfa_design.to_nfa(Set[1, 2]).accepting?\n",
    "nfa_design.to_nfa(Set[2, 3]).accepting?\n",
    "\n",
    "dfa_design = simulation.to_dfa_design\n",
    "dfa_design.accepts?('aaa')\n",
    "dfa_design.accepts?('aab')\n",
    "dfa_design.accepts?('bbbabb')\n"
   ]
  }
 ],
 "metadata": {
  "kernelspec": {
   "display_name": "Ruby 2.6.3",
   "language": "ruby",
   "name": "ruby"
  },
  "language_info": {
   "file_extension": ".rb",
   "mimetype": "application/x-ruby",
   "name": "ruby",
   "version": "2.6.3"
  }
 },
 "nbformat": 4,
 "nbformat_minor": 2
}
