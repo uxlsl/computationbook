{
 "cells": [
  {
   "cell_type": "markdown",
   "metadata": {},
   "source": [
    "# 确定性有限自动机 "
   ]
  },
  {
   "cell_type": "code",
   "execution_count": 1,
   "metadata": {},
   "outputs": [],
   "source": [
    "from dataclasses import dataclass\n",
    "from typing import Any"
   ]
  },
  {
   "cell_type": "code",
   "execution_count": 2,
   "metadata": {},
   "outputs": [],
   "source": [
    "@dataclass\n",
    "class FARule:\n",
    "    state: Any\n",
    "    character: Any\n",
    "    next_state: Any\n",
    "    def applies_to(self,state, character):\n",
    "        return self.state == state and self.character == character\n",
    "    \n",
    "    def follow(self):\n",
    "        return self.next_state\n",
    "    \n",
    "    def __repr__(self):\n",
    "        return f'#<FARule {self.state} --{self.character}--> {self.next_state}>'\n",
    "    \n"
   ]
  },
  {
   "cell_type": "code",
   "execution_count": 3,
   "metadata": {},
   "outputs": [],
   "source": [
    "@dataclass\n",
    "class DFARulebook:\n",
    "    rules: Any\n",
    "    \n",
    "    def next_state(self, state, character):\n",
    "        return self.rule_for(state,character).follow()\n",
    "    \n",
    "    def rule_for(self, state, character):\n",
    "        for rule in self.rules:\n",
    "            if rule.applies_to(state, character):\n",
    "                return rule\n",
    "    \n",
    "    \n",
    "    \n",
    "    "
   ]
  },
  {
   "cell_type": "code",
   "execution_count": 4,
   "metadata": {},
   "outputs": [],
   "source": [
    "rulebook = DFARulebook([\n",
    "    FARule(1,\"a\",2),\n",
    "    FARule(1, 'b', 1),\n",
    "    FARule(2, 'a', 2),\n",
    "    FARule(2, 'b', 3),\n",
    "    FARule(3, 'a', 3), \n",
    "    FARule(3, 'b', 3)\n",
    "])\n"
   ]
  },
  {
   "cell_type": "code",
   "execution_count": 5,
   "metadata": {},
   "outputs": [
    {
     "data": {
      "text/plain": [
       "2"
      ]
     },
     "execution_count": 5,
     "metadata": {},
     "output_type": "execute_result"
    }
   ],
   "source": [
    "rulebook.next_state(1, 'a')"
   ]
  },
  {
   "cell_type": "code",
   "execution_count": 6,
   "metadata": {},
   "outputs": [],
   "source": [
    "@dataclass\n",
    "class DFA:\n",
    "    current_state: Any\n",
    "    accept_states: Any\n",
    "    rule_book : Any\n",
    "    \n",
    "    def accepting(self):\n",
    "        return self.current_state in self.accept_states\n",
    "    \n",
    "    def read_character(self,character):\n",
    "        self.current_state = self.rule_book.next_state(self.current_state, character)\n",
    "    \n",
    "    def read_string(self, string):\n",
    "        for character in string:\n",
    "            self.read_character(character)\n",
    "            \n",
    "        \n",
    "    "
   ]
  },
  {
   "cell_type": "code",
   "execution_count": 7,
   "metadata": {},
   "outputs": [
    {
     "data": {
      "text/plain": [
       "True"
      ]
     },
     "execution_count": 7,
     "metadata": {},
     "output_type": "execute_result"
    }
   ],
   "source": [
    "DFA(1,[1,3],rulebook).accepting()\n"
   ]
  },
  {
   "cell_type": "code",
   "execution_count": 8,
   "metadata": {},
   "outputs": [
    {
     "data": {
      "text/plain": [
       "False"
      ]
     },
     "execution_count": 8,
     "metadata": {},
     "output_type": "execute_result"
    }
   ],
   "source": [
    "DFA(1,[3], rulebook).accepting()"
   ]
  },
  {
   "cell_type": "code",
   "execution_count": 9,
   "metadata": {},
   "outputs": [
    {
     "data": {
      "text/plain": [
       "False"
      ]
     },
     "execution_count": 9,
     "metadata": {},
     "output_type": "execute_result"
    }
   ],
   "source": [
    "dfa = DFA(1, [3], rulebook); dfa.accepting()"
   ]
  },
  {
   "cell_type": "code",
   "execution_count": 10,
   "metadata": {},
   "outputs": [
    {
     "data": {
      "text/plain": [
       "False"
      ]
     },
     "execution_count": 10,
     "metadata": {},
     "output_type": "execute_result"
    }
   ],
   "source": [
    "dfa = DFA(1, [3], rulebook); dfa.accepting()"
   ]
  },
  {
   "cell_type": "code",
   "execution_count": 11,
   "metadata": {},
   "outputs": [
    {
     "data": {
      "text/plain": [
       "False"
      ]
     },
     "execution_count": 11,
     "metadata": {},
     "output_type": "execute_result"
    }
   ],
   "source": [
    "dfa.read_character('b'); dfa.accepting()\n"
   ]
  },
  {
   "cell_type": "code",
   "execution_count": 12,
   "metadata": {},
   "outputs": [
    {
     "data": {
      "text/plain": [
       "True"
      ]
     },
     "execution_count": 12,
     "metadata": {},
     "output_type": "execute_result"
    }
   ],
   "source": [
    "dfa.read_string('baaab'); dfa.accepting()"
   ]
  },
  {
   "cell_type": "code",
   "execution_count": 13,
   "metadata": {},
   "outputs": [],
   "source": [
    "@dataclass\n",
    "class DFADesign:\n",
    "    start_state: Any\n",
    "    accept_states: Any\n",
    "    rulebook: Any\n",
    "    \n",
    "    def to_dfa(self):\n",
    "        return DFA(self.start_state, self.accept_states, self.rulebook)\n",
    "    \n",
    "    def accepts(self, string):\n",
    "        a = self.to_dfa()\n",
    "        a.read_string(string)\n",
    "        return a.accepting()\n",
    "    \n",
    "\n",
    "\n",
    "    "
   ]
  },
  {
   "cell_type": "code",
   "execution_count": 14,
   "metadata": {},
   "outputs": [],
   "source": [
    "dfa_design = DFADesign(1, [3], rulebook)\n"
   ]
  },
  {
   "cell_type": "code",
   "execution_count": 15,
   "metadata": {},
   "outputs": [
    {
     "data": {
      "text/plain": [
       "True"
      ]
     },
     "execution_count": 15,
     "metadata": {},
     "output_type": "execute_result"
    }
   ],
   "source": [
    "dfa_design.accepts('baba')"
   ]
  },
  {
   "cell_type": "code",
   "execution_count": 16,
   "metadata": {},
   "outputs": [
    {
     "data": {
      "text/plain": [
       "True"
      ]
     },
     "execution_count": 16,
     "metadata": {},
     "output_type": "execute_result"
    }
   ],
   "source": [
    "dfa_design.accepts('ab')"
   ]
  },
  {
   "cell_type": "markdown",
   "metadata": {},
   "source": [
    "## 非确定性有效机\n"
   ]
  },
  {
   "cell_type": "code",
   "execution_count": 17,
   "metadata": {},
   "outputs": [],
   "source": [
    "@dataclass\n",
    "class NFARulebook:\n",
    "    rules: Any\n",
    "    \n",
    "    def next_states(self, states, character):\n",
    "        ret = set()\n",
    "        for state in states:\n",
    "            b = self.follow_rules_for(state, character)\n",
    "            ret |= b\n",
    "        return ret\n",
    "    \n",
    "    def follow_rules_for(self, state, character):\n",
    "        return set(rule.follow() \n",
    "                   for rule in self.rules_for(state,character))\n",
    "    \n",
    "    def rules_for(self, state, character):\n",
    "        \"返回匹配的规则\"\n",
    "        return [rule for rule in self.rules \n",
    "                if rule.applies_to(state, character)]\n",
    "    \n",
    "    def follow_free_moves(self,states):\n",
    "        more_states = self.next_states(states, None)\n",
    "        if more_states.issubset(states):\n",
    "            return states\n",
    "        return self.follow_free_moves(states|more_states)\n",
    "            "
   ]
  },
  {
   "cell_type": "code",
   "execution_count": 18,
   "metadata": {},
   "outputs": [],
   "source": [
    "rulebook = NFARulebook([\n",
    "  FARule(1, None, 2), \n",
    "  FARule(1, None, 4),\n",
    "  FARule(2, 'a', 3),\n",
    "  FARule(3, 'a', 2),\n",
    "  FARule(4, 'a', 5),\n",
    "  FARule(5, 'a', 6),\n",
    "  FARule(6, 'a', 4)\n",
    "])"
   ]
  },
  {
   "cell_type": "code",
   "execution_count": 19,
   "metadata": {},
   "outputs": [
    {
     "data": {
      "text/plain": [
       "{2, 4}"
      ]
     },
     "execution_count": 19,
     "metadata": {},
     "output_type": "execute_result"
    }
   ],
   "source": [
    "rulebook.next_states(set([1]), None)"
   ]
  },
  {
   "cell_type": "code",
   "execution_count": 20,
   "metadata": {},
   "outputs": [
    {
     "data": {
      "text/plain": [
       "{3, 5}"
      ]
     },
     "execution_count": 20,
     "metadata": {},
     "output_type": "execute_result"
    }
   ],
   "source": [
    "rulebook.next_states(set([1,2,4]), 'a')\n"
   ]
  },
  {
   "cell_type": "code",
   "execution_count": 21,
   "metadata": {},
   "outputs": [
    {
     "data": {
      "text/plain": [
       "{1, 2, 4}"
      ]
     },
     "execution_count": 21,
     "metadata": {},
     "output_type": "execute_result"
    }
   ],
   "source": [
    "rulebook.follow_free_moves(set([1]))"
   ]
  },
  {
   "cell_type": "code",
   "execution_count": 22,
   "metadata": {},
   "outputs": [],
   "source": [
    "@dataclass\n",
    "class NFA:\n",
    "    _current_states: Any\n",
    "    accept_states: Any\n",
    "    rulebook: Any\n",
    "    \n",
    "    def accepting(self):\n",
    "        return len(self.current_states & self.accept_states) > 0\n",
    "    \n",
    "    def read_character(self, character):\n",
    "        a = self.rulebook.next_states(self.current_states, \n",
    "                                    character)\n",
    "        self.current_states = a\n",
    "        \n",
    "    def read_string(self, string):\n",
    "        for character in string:\n",
    "            self.read_character(character)\n",
    "    \n",
    "    @property\n",
    "    def current_states(self):\n",
    "        return self.rulebook.follow_free_moves(self._current_states)\n",
    "    \n",
    "    @current_states.setter\n",
    "    def current_states(self,val):\n",
    "        self._current_states = val\n",
    "    "
   ]
  },
  {
   "cell_type": "code",
   "execution_count": 23,
   "metadata": {},
   "outputs": [
    {
     "data": {
      "text/plain": [
       "True"
      ]
     },
     "execution_count": 23,
     "metadata": {},
     "output_type": "execute_result"
    }
   ],
   "source": [
    "nfa = NFA(set([1]), set([4]), rulebook); nfa.accepting()"
   ]
  },
  {
   "cell_type": "code",
   "execution_count": 24,
   "metadata": {},
   "outputs": [
    {
     "name": "stdout",
     "output_type": "stream",
     "text": [
      "a\n"
     ]
    },
    {
     "data": {
      "text/plain": [
       "{3, 5}"
      ]
     },
     "execution_count": 24,
     "metadata": {},
     "output_type": "execute_result"
    }
   ],
   "source": [
    "nfa = NFA(set([1]), set([4]), rulebook)\n",
    "nfa.read_string('a')\n",
    "nfa.current_states"
   ]
  },
  {
   "cell_type": "code",
   "execution_count": 25,
   "metadata": {},
   "outputs": [],
   "source": [
    "@dataclass\n",
    "class NFADesign:\n",
    "    start_state: Any\n",
    "    accept_states: Any\n",
    "    rulebook: Any\n",
    "    \n",
    "    def accepts(self, string):\n",
    "        a = self.to_nfa()\n",
    "        a.read_string(string)\n",
    "        return a.accepting()\n",
    "    \n",
    "    def to_nfa(self):\n",
    "        return NFA(set([self.start_state]), self.accept_states, rulebook)\n",
    "    "
   ]
  },
  {
   "cell_type": "code",
   "execution_count": 26,
   "metadata": {},
   "outputs": [],
   "source": [
    "nfa_design = NFADesign(1, set([2, 4]), rulebook)"
   ]
  },
  {
   "cell_type": "code",
   "execution_count": 27,
   "metadata": {},
   "outputs": [
    {
     "name": "stdout",
     "output_type": "stream",
     "text": [
      "a\n",
      "a\n"
     ]
    },
    {
     "data": {
      "text/plain": [
       "True"
      ]
     },
     "execution_count": 27,
     "metadata": {},
     "output_type": "execute_result"
    }
   ],
   "source": [
    "nfa_design.accepts('aa')"
   ]
  },
  {
   "cell_type": "code",
   "execution_count": 29,
   "metadata": {},
   "outputs": [
    {
     "name": "stdout",
     "output_type": "stream",
     "text": [
      "a\n",
      "a\n",
      "a\n"
     ]
    },
    {
     "data": {
      "text/plain": [
       "True"
      ]
     },
     "execution_count": 29,
     "metadata": {},
     "output_type": "execute_result"
    }
   ],
   "source": [
    "nfa_design.accepts('aaa')"
   ]
  },
  {
   "cell_type": "code",
   "execution_count": null,
   "metadata": {},
   "outputs": [],
   "source": []
  },
  {
   "cell_type": "code",
   "execution_count": null,
   "metadata": {},
   "outputs": [],
   "source": []
  },
  {
   "cell_type": "code",
   "execution_count": null,
   "metadata": {},
   "outputs": [],
   "source": []
  }
 ],
 "metadata": {
  "kernelspec": {
   "display_name": "Python 3",
   "language": "python",
   "name": "python3"
  },
  "language_info": {
   "codemirror_mode": {
    "name": "ipython",
    "version": 3
   },
   "file_extension": ".py",
   "mimetype": "text/x-python",
   "name": "python",
   "nbconvert_exporter": "python",
   "pygments_lexer": "ipython3",
   "version": "3.7.3"
  }
 },
 "nbformat": 4,
 "nbformat_minor": 2
}
