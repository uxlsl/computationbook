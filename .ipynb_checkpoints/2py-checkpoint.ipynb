{
 "cells": [
  {
   "cell_type": "code",
   "execution_count": 1,
   "metadata": {},
   "outputs": [],
   "source": [
    "from dataclasses import dataclass\n",
    "from typing import Any\n"
   ]
  },
  {
   "cell_type": "code",
   "execution_count": 2,
   "metadata": {},
   "outputs": [],
   "source": [
    "@dataclass\n",
    "class Number:\n",
    "    value: Any\n",
    "    def __str__(self):\n",
    "        return str(self.value)\n",
    "    \n",
    "    def __repr__(self):\n",
    "        return f'«#{self}»'\n",
    "    \n",
    "    def reducible(self):\n",
    "        return False\n",
    "    "
   ]
  },
  {
   "cell_type": "code",
   "execution_count": 3,
   "metadata": {},
   "outputs": [],
   "source": [
    "n = Number(12)"
   ]
  },
  {
   "cell_type": "code",
   "execution_count": 4,
   "metadata": {},
   "outputs": [],
   "source": [
    "@dataclass\n",
    "class Add:\n",
    "    left: Any\n",
    "    right: Any\n",
    "    \n",
    "    def __str__(self):\n",
    "        return  f'{self.left} + {self.right}'\n",
    "    \n",
    "    def __repr__(self):\n",
    "        return f'«{self}»'\n",
    "    \n",
    "    def reducible(self):\n",
    "        return True\n",
    "    \n",
    "    def reduce(self):\n",
    "        if self.left.reducible():\n",
    "            return Add(self.left.reduce(), self.right)\n",
    "        elif self.right.reducible():\n",
    "            return Add(self.left, self.right.reduce())\n",
    "        \n",
    "        return Number(self.left.value + self.right.value)\n",
    "    \n",
    "    \n",
    "    \n",
    "    "
   ]
  },
  {
   "cell_type": "code",
   "execution_count": 5,
   "metadata": {},
   "outputs": [
    {
     "data": {
      "text/plain": [
       "«1 + 2»"
      ]
     },
     "execution_count": 5,
     "metadata": {},
     "output_type": "execute_result"
    }
   ],
   "source": [
    "a = Number(1) \n",
    "b = Number(2)\n",
    "\n",
    "Add(a, b)"
   ]
  },
  {
   "cell_type": "code",
   "execution_count": 6,
   "metadata": {},
   "outputs": [],
   "source": [
    "@dataclass\n",
    "class Multiply:\n",
    "    left: Any\n",
    "    right: Any\n",
    "    \n",
    "    def __str__(self):\n",
    "        return  f'{self.left} * {self.right}'\n",
    "    \n",
    "    def __repr__(self):\n",
    "        return f'«{self}»'\n",
    "\n",
    "    def reducible(self):\n",
    "        return True\n",
    "    \n",
    "    def reduce(self):\n",
    "        if self.left.reducible():\n",
    "            return Multiply(self.left.reduce(), self.right)\n",
    "        elif self.right.reducible():\n",
    "            return Multiply(self.left, self.right.reduce())\n",
    "        \n",
    "        return Number(self.left.value * self.right.value)\n"
   ]
  },
  {
   "cell_type": "code",
   "execution_count": null,
   "metadata": {},
   "outputs": [],
   "source": []
  },
  {
   "cell_type": "code",
   "execution_count": 7,
   "metadata": {},
   "outputs": [
    {
     "data": {
      "text/plain": [
       "«1 * 2»"
      ]
     },
     "execution_count": 7,
     "metadata": {},
     "output_type": "execute_result"
    }
   ],
   "source": [
    "a = Number(1) \n",
    "b = Number(2)\n",
    "\n",
    "Multiply(a, b)"
   ]
  },
  {
   "cell_type": "code",
   "execution_count": 8,
   "metadata": {},
   "outputs": [
    {
     "data": {
      "text/plain": [
       "«1 * 2 + 3 * 4»"
      ]
     },
     "execution_count": 8,
     "metadata": {},
     "output_type": "execute_result"
    }
   ],
   "source": [
    "Add(\n",
    "  Multiply(Number(1), Number(2)),\n",
    "  Multiply(Number(3), Number(4))\n",
    ")"
   ]
  },
  {
   "cell_type": "code",
   "execution_count": 9,
   "metadata": {},
   "outputs": [],
   "source": [
    "expression = Add(\n",
    "  Multiply(Number(1), Number(2)),\n",
    "  Multiply(Number(3), Number(4))\n",
    ")"
   ]
  },
  {
   "cell_type": "code",
   "execution_count": 11,
   "metadata": {},
   "outputs": [
    {
     "data": {
      "text/plain": [
       "«3 + 3 * 4»"
      ]
     },
     "execution_count": 11,
     "metadata": {},
     "output_type": "execute_result"
    }
   ],
   "source": [
    "expression.reduce()"
   ]
  },
  {
   "cell_type": "code",
   "execution_count": 12,
   "metadata": {},
   "outputs": [],
   "source": [
    "@dataclass\n",
    "class Machine:\n",
    "    expression: Any\n",
    "    \n",
    "    def step(self):\n",
    "        self.expression = self.expression.reduce()\n",
    "    \n",
    "    def run(self):\n",
    "        \n",
    "        while self.expression.reducible():\n",
    "            print(self.expression)\n",
    "            self.step()\n",
    "        \n",
    "        print(self.expression)\n",
    "\n",
    "\n",
    "    "
   ]
  },
  {
   "cell_type": "code",
   "execution_count": 13,
   "metadata": {},
   "outputs": [],
   "source": [
    "expression = Add(\n",
    "  Multiply(Number(1), Number(2)),\n",
    "  Multiply(Number(3), Number(4))\n",
    ")"
   ]
  },
  {
   "cell_type": "code",
   "execution_count": 15,
   "metadata": {},
   "outputs": [],
   "source": [
    "machine = Machine(expression)"
   ]
  },
  {
   "cell_type": "code",
   "execution_count": 16,
   "metadata": {},
   "outputs": [
    {
     "name": "stdout",
     "output_type": "stream",
     "text": [
      "1 * 2 + 3 * 4\n",
      "3 + 3 * 4\n",
      "3 + 7\n"
     ]
    },
    {
     "ename": "TypeError",
     "evalue": "'Number' object is not callable",
     "output_type": "error",
     "traceback": [
      "\u001b[0;31m---------------------------------------------------------------------------\u001b[0m",
      "\u001b[0;31mTypeError\u001b[0m                                 Traceback (most recent call last)",
      "\u001b[0;32m<ipython-input-16-bdcf36cdd71a>\u001b[0m in \u001b[0;36m<module>\u001b[0;34m\u001b[0m\n\u001b[0;32m----> 1\u001b[0;31m \u001b[0mmachine\u001b[0m\u001b[0;34m.\u001b[0m\u001b[0mrun\u001b[0m\u001b[0;34m(\u001b[0m\u001b[0;34m)\u001b[0m\u001b[0;34m\u001b[0m\u001b[0;34m\u001b[0m\u001b[0m\n\u001b[0m",
      "\u001b[0;32m<ipython-input-12-099e5f4e39b1>\u001b[0m in \u001b[0;36mrun\u001b[0;34m(self)\u001b[0m\n\u001b[1;32m     12\u001b[0m             \u001b[0mself\u001b[0m\u001b[0;34m.\u001b[0m\u001b[0mstep\u001b[0m\u001b[0;34m(\u001b[0m\u001b[0;34m)\u001b[0m\u001b[0;34m\u001b[0m\u001b[0;34m\u001b[0m\u001b[0m\n\u001b[1;32m     13\u001b[0m \u001b[0;34m\u001b[0m\u001b[0m\n\u001b[0;32m---> 14\u001b[0;31m         \u001b[0mprint\u001b[0m\u001b[0;34m(\u001b[0m\u001b[0mself\u001b[0m\u001b[0;34m.\u001b[0m\u001b[0mexpression\u001b[0m\u001b[0;34m(\u001b[0m\u001b[0;34m)\u001b[0m\u001b[0;34m)\u001b[0m\u001b[0;34m\u001b[0m\u001b[0;34m\u001b[0m\u001b[0m\n\u001b[0m\u001b[1;32m     15\u001b[0m \u001b[0;34m\u001b[0m\u001b[0m\n\u001b[1;32m     16\u001b[0m \u001b[0;34m\u001b[0m\u001b[0m\n",
      "\u001b[0;31mTypeError\u001b[0m: 'Number' object is not callable"
     ]
    }
   ],
   "source": [
    "machine.run()"
   ]
  },
  {
   "cell_type": "code",
   "execution_count": null,
   "metadata": {},
   "outputs": [],
   "source": []
  }
 ],
 "metadata": {
  "kernelspec": {
   "display_name": "Python 3",
   "language": "python",
   "name": "python3"
  },
  "language_info": {
   "codemirror_mode": {
    "name": "ipython",
    "version": 3
   },
   "file_extension": ".py",
   "mimetype": "text/x-python",
   "name": "python",
   "nbconvert_exporter": "python",
   "pygments_lexer": "ipython3",
   "version": "3.7.3"
  }
 },
 "nbformat": 4,
 "nbformat_minor": 2
}
