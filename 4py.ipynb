{
 "cells": [
  {
   "cell_type": "markdown",
   "metadata": {},
   "source": [
    "# 确定性下推自动机"
   ]
  },
  {
   "cell_type": "code",
   "execution_count": 1,
   "metadata": {},
   "outputs": [],
   "source": [
    "from dataclasses import dataclass\n",
    "from typing import Any"
   ]
  },
  {
   "cell_type": "code",
   "execution_count": 2,
   "metadata": {},
   "outputs": [],
   "source": [
    "@dataclass\n",
    "class Stack:\n",
    "    contents: Any\n",
    "    \n",
    "    def pop(self):\n",
    "        return Stack(self.contents[1:])\n",
    "    \n",
    "    def push(self,character):\n",
    "        return Stack([character] + self.contents)\n",
    "    \n",
    "    def top(self):\n",
    "        if self.contents:\n",
    "            return self.contents[0]\n",
    "        else:\n",
    "            return ''\n",
    "    \n",
    "    def __repr__(self):\n",
    "        return f'#Stack ({self.top()}){self.contents[1:]}>'\n",
    "        "
   ]
  },
  {
   "cell_type": "code",
   "execution_count": 3,
   "metadata": {},
   "outputs": [],
   "source": [
    "stack = Stack(list(\"abcde\"))\n"
   ]
  },
  {
   "cell_type": "code",
   "execution_count": 4,
   "metadata": {},
   "outputs": [
    {
     "data": {
      "text/plain": [
       "#Stack (a)['b', 'c', 'd', 'e']>"
      ]
     },
     "execution_count": 4,
     "metadata": {},
     "output_type": "execute_result"
    }
   ],
   "source": [
    "stack"
   ]
  },
  {
   "cell_type": "code",
   "execution_count": 5,
   "metadata": {},
   "outputs": [
    {
     "data": {
      "text/plain": [
       "'a'"
      ]
     },
     "execution_count": 5,
     "metadata": {},
     "output_type": "execute_result"
    }
   ],
   "source": [
    "stack.top()"
   ]
  },
  {
   "cell_type": "code",
   "execution_count": 6,
   "metadata": {},
   "outputs": [
    {
     "data": {
      "text/plain": [
       "'c'"
      ]
     },
     "execution_count": 6,
     "metadata": {},
     "output_type": "execute_result"
    }
   ],
   "source": [
    "stack.pop().pop().top()"
   ]
  },
  {
   "cell_type": "code",
   "execution_count": 7,
   "metadata": {},
   "outputs": [
    {
     "data": {
      "text/plain": [
       "'y'"
      ]
     },
     "execution_count": 7,
     "metadata": {},
     "output_type": "execute_result"
    }
   ],
   "source": [
    "stack.push('x').push('y').top()"
   ]
  },
  {
   "cell_type": "code",
   "execution_count": 8,
   "metadata": {},
   "outputs": [
    {
     "data": {
      "text/plain": [
       "'x'"
      ]
     },
     "execution_count": 8,
     "metadata": {},
     "output_type": "execute_result"
    }
   ],
   "source": [
    "stack.push('x').push('y').pop().top()"
   ]
  },
  {
   "cell_type": "code",
   "execution_count": 9,
   "metadata": {},
   "outputs": [],
   "source": [
    "STUCK_STATE=object()\n",
    "\n",
    "@dataclass\n",
    "class PDAConfiguration:\n",
    "    state: Any\n",
    "    stack: Any\n",
    "    \n",
    "    def stuck(self):\n",
    "        return PDAconfiguration(STUCK_STATE, self.stack)\n",
    "    \n",
    "    def stuck_if(self):\n",
    "        return self.state == STUCK_STATE\n",
    "    \n",
    "    "
   ]
  },
  {
   "cell_type": "code",
   "execution_count": 10,
   "metadata": {},
   "outputs": [],
   "source": [
    "@dataclass\n",
    "class PDARule:\n",
    "    state: Any\n",
    "    character: Any\n",
    "    next_state: Any\n",
    "    pop_character: Any\n",
    "    push_characters: Any\n",
    "    \n",
    "    def applies_to_if(self, configure, character):\n",
    "        return self.pop_character == configure.stack.top() and \\\n",
    "               self.character == character\n",
    "    \n",
    "    def follow(self, configure):\n",
    "        return PDAConfiguration(self.next_state, self.next_stack(configure))\n",
    "    \n",
    "    def next_stack(self, configure):\n",
    "        popped_stack = configuration.stack.pop()\n",
    "        \n",
    "        for character in reversed(self.push_characters):\n",
    "            popped_stack = popped_stack.push(character)\n",
    "        \n",
    "        return popped_stack\n",
    "    \n",
    "    \n",
    "        "
   ]
  },
  {
   "cell_type": "code",
   "execution_count": 11,
   "metadata": {},
   "outputs": [],
   "source": [
    "rule = PDARule(1, '(', 2, '$', ['b', '$'])"
   ]
  },
  {
   "cell_type": "code",
   "execution_count": 12,
   "metadata": {},
   "outputs": [],
   "source": [
    "configuration = PDAConfiguration(1, Stack(['$']))"
   ]
  },
  {
   "cell_type": "code",
   "execution_count": 13,
   "metadata": {},
   "outputs": [
    {
     "data": {
      "text/plain": [
       "True"
      ]
     },
     "execution_count": 13,
     "metadata": {},
     "output_type": "execute_result"
    }
   ],
   "source": [
    "rule.applies_to_if(configuration, '(')"
   ]
  },
  {
   "cell_type": "code",
   "execution_count": 14,
   "metadata": {},
   "outputs": [
    {
     "data": {
      "text/plain": [
       "#Stack (b)['$']>"
      ]
     },
     "execution_count": 14,
     "metadata": {},
     "output_type": "execute_result"
    }
   ],
   "source": [
    "rule.next_stack(configuration)"
   ]
  }
 ],
 "metadata": {
  "kernelspec": {
   "display_name": "Python 3",
   "language": "python",
   "name": "python3"
  },
  "language_info": {
   "codemirror_mode": {
    "name": "ipython",
    "version": 3
   },
   "file_extension": ".py",
   "mimetype": "text/x-python",
   "name": "python",
   "nbconvert_exporter": "python",
   "pygments_lexer": "ipython3",
   "version": "3.7.3"
  }
 },
 "nbformat": 4,
 "nbformat_minor": 2
}
