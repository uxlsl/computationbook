{
 "cells": [
  {
   "cell_type": "code",
   "execution_count": 1,
   "metadata": {},
   "outputs": [],
   "source": [
    "from dataclasses import dataclass\n",
    "from typing import Any\n"
   ]
  },
  {
   "cell_type": "code",
   "execution_count": 2,
   "metadata": {},
   "outputs": [],
   "source": [
    "@dataclass\n",
    "class Number:\n",
    "    value: Any\n",
    "    def __str__(self):\n",
    "        return str(self.value)\n",
    "    \n",
    "    def __repr__(self):\n",
    "        return f'«#{self}»'\n",
    "    \n",
    "    def reducible(self):\n",
    "        return False\n",
    "    "
   ]
  },
  {
   "cell_type": "code",
   "execution_count": 3,
   "metadata": {},
   "outputs": [],
   "source": [
    "n = Number(12)"
   ]
  },
  {
   "cell_type": "code",
   "execution_count": 4,
   "metadata": {},
   "outputs": [],
   "source": [
    "@dataclass\n",
    "class Add:\n",
    "    left: Any\n",
    "    right: Any\n",
    "    \n",
    "    def __str__(self):\n",
    "        return  f'{self.left} + {self.right}'\n",
    "    \n",
    "    def __repr__(self):\n",
    "        return f'«{self}»'\n",
    "    \n",
    "    def reducible(self):\n",
    "        return True\n",
    "    \n",
    "    def reduce(self):\n",
    "        if self.left.reducible():\n",
    "            return Add(self.left.reduce(), self.right)\n",
    "        elif self.right.reducible():\n",
    "            return Add(self.left, self.right.reduce())\n",
    "        \n",
    "        return Number(self.left.value + self.right.value)\n",
    "    \n",
    "    \n",
    "    \n",
    "    "
   ]
  },
  {
   "cell_type": "code",
   "execution_count": 5,
   "metadata": {},
   "outputs": [
    {
     "data": {
      "text/plain": [
       "«1 + 2»"
      ]
     },
     "execution_count": 5,
     "metadata": {},
     "output_type": "execute_result"
    }
   ],
   "source": [
    "a = Number(1) \n",
    "b = Number(2)\n",
    "\n",
    "Add(a, b)"
   ]
  },
  {
   "cell_type": "code",
   "execution_count": 6,
   "metadata": {},
   "outputs": [],
   "source": [
    "@dataclass\n",
    "class Multiply:\n",
    "    left: Any\n",
    "    right: Any\n",
    "    \n",
    "    def __str__(self):\n",
    "        return  f'{self.left} * {self.right}'\n",
    "    \n",
    "    def __repr__(self):\n",
    "        return f'«{self}»'\n",
    "\n",
    "    def reducible(self):\n",
    "        return True\n",
    "    \n",
    "    def reduce(self):\n",
    "        if self.left.reducible():\n",
    "            return Multiply(self.left.reduce(), self.right)\n",
    "        elif self.right.reducible():\n",
    "            return Multiply(self.left, self.right.reduce())\n",
    "        \n",
    "        return Number(self.left.value * self.right.value)\n"
   ]
  },
  {
   "cell_type": "code",
   "execution_count": null,
   "metadata": {},
   "outputs": [],
   "source": []
  },
  {
   "cell_type": "code",
   "execution_count": 7,
   "metadata": {},
   "outputs": [
    {
     "data": {
      "text/plain": [
       "«1 * 2»"
      ]
     },
     "execution_count": 7,
     "metadata": {},
     "output_type": "execute_result"
    }
   ],
   "source": [
    "a = Number(1) \n",
    "b = Number(2)\n",
    "\n",
    "Multiply(a, b)"
   ]
  },
  {
   "cell_type": "code",
   "execution_count": 8,
   "metadata": {
    "scrolled": false
   },
   "outputs": [
    {
     "data": {
      "text/plain": [
       "«1 * 2 + 3 * 4»"
      ]
     },
     "execution_count": 8,
     "metadata": {},
     "output_type": "execute_result"
    }
   ],
   "source": [
    "Add(\n",
    "  Multiply(Number(1), Number(2)),\n",
    "  Multiply(Number(3), Number(4))\n",
    ")"
   ]
  },
  {
   "cell_type": "code",
   "execution_count": 9,
   "metadata": {},
   "outputs": [],
   "source": [
    "expression = Add(\n",
    "  Multiply(Number(1), Number(2)),\n",
    "  Multiply(Number(3), Number(4))\n",
    ")"
   ]
  },
  {
   "cell_type": "code",
   "execution_count": 10,
   "metadata": {},
   "outputs": [
    {
     "data": {
      "text/plain": [
       "«2 + 3 * 4»"
      ]
     },
     "execution_count": 10,
     "metadata": {},
     "output_type": "execute_result"
    }
   ],
   "source": [
    "expression.reduce()"
   ]
  },
  {
   "cell_type": "code",
   "execution_count": 11,
   "metadata": {},
   "outputs": [],
   "source": [
    "@dataclass\n",
    "class Machine:\n",
    "    expression: Any\n",
    "    \n",
    "    def step(self):\n",
    "        self.expression = self.expression.reduce()\n",
    "    \n",
    "    def run(self):\n",
    "        \n",
    "        while self.expression.reducible():\n",
    "            print(self.expression)\n",
    "            self.step()\n",
    "        \n",
    "        print(self.expression)\n",
    "\n",
    "\n",
    "    "
   ]
  },
  {
   "cell_type": "code",
   "execution_count": 12,
   "metadata": {},
   "outputs": [],
   "source": [
    "expression = Add(\n",
    "  Multiply(Number(1), Number(2)),\n",
    "  Multiply(Number(3), Number(4))\n",
    ")"
   ]
  },
  {
   "cell_type": "code",
   "execution_count": 13,
   "metadata": {},
   "outputs": [],
   "source": [
    "machine = Machine(expression)"
   ]
  },
  {
   "cell_type": "code",
   "execution_count": 14,
   "metadata": {},
   "outputs": [
    {
     "name": "stdout",
     "output_type": "stream",
     "text": [
      "1 * 2 + 3 * 4\n",
      "2 + 3 * 4\n",
      "2 + 12\n",
      "14\n"
     ]
    }
   ],
   "source": [
    "machine.run()"
   ]
  },
  {
   "cell_type": "code",
   "execution_count": 15,
   "metadata": {},
   "outputs": [],
   "source": [
    "@dataclass\n",
    "class Boolean:\n",
    "    value: Any\n",
    "    \n",
    "    def __str__(self):\n",
    "        return str(self.value)\n",
    "\n",
    "    def __repr__(self):\n",
    "        return f'«{self}»'\n",
    "    \n",
    "    def reducible(self):\n",
    "        return False\n",
    "    "
   ]
  },
  {
   "cell_type": "code",
   "execution_count": 16,
   "metadata": {},
   "outputs": [],
   "source": [
    "@dataclass\n",
    "class LessThan:\n",
    "    left: Any\n",
    "    right: Any\n",
    "    \n",
    "    def __str__(self):    \n",
    "        return f'{self.left} < {self.right}'\n",
    "    \n",
    "    def __repr__(self):\n",
    "        return f'«{self}»'\n",
    "    \n",
    "    def reducible(self):\n",
    "        return True\n",
    "    \n",
    "    def reduce(self):\n",
    "        if self.left.reducible():\n",
    "            return LessThan(self.left.reduce(), self.right)\n",
    "        elif self.right.reducible():\n",
    "            return LessThan(self.left, self.right.reduce())\n",
    "        return Boolean(self.left.value < self.right.value)\n",
    "    \n",
    "    "
   ]
  },
  {
   "cell_type": "code",
   "execution_count": 17,
   "metadata": {},
   "outputs": [],
   "source": [
    "machine = Machine(LessThan(Number(5), Add(Number(1), Number(2))))"
   ]
  },
  {
   "cell_type": "code",
   "execution_count": 18,
   "metadata": {},
   "outputs": [
    {
     "name": "stdout",
     "output_type": "stream",
     "text": [
      "5 < 1 + 2\n",
      "5 < 3\n",
      "False\n"
     ]
    }
   ],
   "source": [
    "machine.run()"
   ]
  },
  {
   "cell_type": "code",
   "execution_count": 19,
   "metadata": {},
   "outputs": [],
   "source": [
    "@dataclass\n",
    "class Variable:\n",
    "    name: Any\n",
    "    \n",
    "    def __str__(self):\n",
    "        return str(self.name)\n",
    "\n",
    "    def __repr__(self):\n",
    "        return f'«{self}»'\n",
    "    \n",
    "    def reducible(self):\n",
    "        return True\n",
    "    \n",
    "    def reduce(self, environment):\n",
    "        return environment[self.name]\n",
    "    \n",
    "    "
   ]
  },
  {
   "cell_type": "code",
   "execution_count": 20,
   "metadata": {},
   "outputs": [],
   "source": [
    "@dataclass\n",
    "class Add:\n",
    "    left: Any\n",
    "    right: Any\n",
    "    \n",
    "    def __str__(self):\n",
    "        return  f'{self.left} + {self.right}'\n",
    "    \n",
    "    def __repr__(self):\n",
    "        return f'«{self}»'\n",
    "    \n",
    "    def reducible(self):\n",
    "        return True\n",
    "    \n",
    "    def reduce(self, environment):\n",
    "        if self.left.reducible():\n",
    "            return Add(self.left.reduce(environment), self.right)\n",
    "        elif self.right.reducible():\n",
    "            return Add(self.left, self.right.reduce(environment))\n",
    "        \n",
    "        return Number(self.left.value + self.right.value)"
   ]
  },
  {
   "cell_type": "code",
   "execution_count": 21,
   "metadata": {},
   "outputs": [],
   "source": [
    "@dataclass\n",
    "class Multiply:\n",
    "    left: Any\n",
    "    right: Any\n",
    "    \n",
    "    def __str__(self):\n",
    "        return  f'{self.left} * {self.right}'\n",
    "    \n",
    "    def __repr__(self):\n",
    "        return f'«{self}»'\n",
    "\n",
    "    def reducible(self):\n",
    "        return True\n",
    "    \n",
    "    def reduce(self, environment):\n",
    "        if self.left.reducible():\n",
    "            return Multiply(self.left.reduce(environment), self.right)\n",
    "        elif self.right.reducible():\n",
    "            return Multiply(self.left, self.right.reduce(environment))\n",
    "        \n",
    "        return Number(self.left.value * self.right.value)\n",
    "\n"
   ]
  },
  {
   "cell_type": "code",
   "execution_count": 22,
   "metadata": {},
   "outputs": [],
   "source": [
    "@dataclass\n",
    "class LessThan:\n",
    "    left: Any\n",
    "    right: Any\n",
    "    \n",
    "    def __str__(self):    \n",
    "        return f'{self.left} < {self.right}'\n",
    "    \n",
    "    def __repr__(self):\n",
    "        return f'«{self}»'\n",
    "    \n",
    "    def reducible(self):\n",
    "        return True\n",
    "    \n",
    "    def reduce(self):\n",
    "        if self.left.reducible():\n",
    "            return LessThan(self.left.reduce(environment), self.right)\n",
    "        elif self.right.reducible():\n",
    "            return LessThan(self.left, self.right.reduce(environment))\n",
    "        return Boolean(self.left.value < self.right.value)"
   ]
  },
  {
   "cell_type": "code",
   "execution_count": 23,
   "metadata": {},
   "outputs": [],
   "source": [
    "@dataclass\n",
    "class Machine:\n",
    "    expression: Any\n",
    "    environment: Any\n",
    "    \n",
    "    def step(self):\n",
    "        self.expression = self.expression.reduce(self.environment)\n",
    "    \n",
    "    def run(self):\n",
    "        \n",
    "        while self.expression.reducible():\n",
    "            print(self.expression)\n",
    "            self.step()\n",
    "        \n",
    "        print(self.expression)"
   ]
  },
  {
   "cell_type": "code",
   "execution_count": 24,
   "metadata": {},
   "outputs": [],
   "source": [
    "machine = Machine(Add(Variable(\"x\"), Variable(\"y\")), {\"x\": Number(3), \"y\": Number(4)})"
   ]
  },
  {
   "cell_type": "code",
   "execution_count": 25,
   "metadata": {},
   "outputs": [
    {
     "name": "stdout",
     "output_type": "stream",
     "text": [
      "x + y\n",
      "3 + y\n",
      "3 + 4\n",
      "7\n"
     ]
    }
   ],
   "source": [
    "machine.run()"
   ]
  },
  {
   "cell_type": "code",
   "execution_count": 26,
   "metadata": {},
   "outputs": [],
   "source": [
    "@dataclass\n",
    "class DoNothing:\n",
    "    def __str__(self):\n",
    "        return 'do-nothing'\n",
    "   \n",
    "    def __repr__(self):\n",
    "        return f'«{self}»'\n",
    "    \n",
    "    def __eq__(self):\n",
    "        return isinstance(self,DoNothing)\n",
    "    \n",
    "    def reducible(self):\n",
    "        return False\n",
    "    "
   ]
  },
  {
   "cell_type": "code",
   "execution_count": 27,
   "metadata": {},
   "outputs": [],
   "source": [
    "@dataclass\n",
    "class Assign:\n",
    "    name: Any\n",
    "    expression: Any\n",
    "    \n",
    "    def __str__(self):\n",
    "        return f'{self.name} = {self.expression}'\n",
    "   \n",
    "    def __repr__(self):\n",
    "        return f'«{self}»'\n",
    "    \n",
    "    def reducible(self):\n",
    "        return True\n",
    "    \n",
    "    def reduce(self, environment):\n",
    "        if self.expression.reducible():\n",
    "            return [Assign(self.name, self.expression.reduce(environment)), environment]\n",
    "        environment.update({self.name: self.expression})\n",
    "        return [DoNothing(), environment]\n",
    "    \n",
    "\n",
    "    "
   ]
  },
  {
   "cell_type": "code",
   "execution_count": 28,
   "metadata": {},
   "outputs": [],
   "source": [
    "statement = Assign(\"x\", Add(Variable(\"x\"), Number(1)))\n"
   ]
  },
  {
   "cell_type": "code",
   "execution_count": 29,
   "metadata": {},
   "outputs": [],
   "source": [
    "environment = {\"x\": Number(2)}"
   ]
  },
  {
   "cell_type": "code",
   "execution_count": 30,
   "metadata": {},
   "outputs": [],
   "source": [
    "statement, environment = statement.reduce(environment)"
   ]
  },
  {
   "cell_type": "code",
   "execution_count": 31,
   "metadata": {},
   "outputs": [],
   "source": [
    "statement, environment = statement.reduce(environment)"
   ]
  },
  {
   "cell_type": "code",
   "execution_count": 32,
   "metadata": {},
   "outputs": [
    {
     "data": {
      "text/plain": [
       "«do-nothing»"
      ]
     },
     "execution_count": 32,
     "metadata": {},
     "output_type": "execute_result"
    }
   ],
   "source": [
    "statement, environment = statement.reduce(environment)\n",
    "statement"
   ]
  },
  {
   "cell_type": "code",
   "execution_count": 33,
   "metadata": {},
   "outputs": [
    {
     "name": "stdout",
     "output_type": "stream",
     "text": [
      "{'x': «#3»}\n"
     ]
    }
   ],
   "source": [
    "print(environment)"
   ]
  },
  {
   "cell_type": "code",
   "execution_count": 38,
   "metadata": {},
   "outputs": [],
   "source": [
    "@dataclass\n",
    "class Machine:\n",
    "    expression: Any\n",
    "    environment: Any\n",
    "    \n",
    "    def step(self):\n",
    "        self.expression,self.environment = self.expression.reduce(self.environment)\n",
    "    \n",
    "    def run(self):\n",
    "        \n",
    "        while self.expression.reducible():\n",
    "            print(self.expression, self.environment)\n",
    "            self.step()\n",
    "        \n",
    "        print(self.expression,self.environment)\n",
    "        "
   ]
  },
  {
   "cell_type": "code",
   "execution_count": 40,
   "metadata": {},
   "outputs": [
    {
     "name": "stdout",
     "output_type": "stream",
     "text": [
      "x = x + 1 {'x': «#2»}\n",
      "x = 2 + 1 {'x': «#2»}\n",
      "x = 3 {'x': «#2»}\n",
      "do-nothing {'x': «#3»}\n"
     ]
    }
   ],
   "source": [
    "Machine(Assign(\"x\", Add(Variable(\"x\"), Number(1))), {\"x\": Number(2)}).run()"
   ]
  },
  {
   "cell_type": "code",
   "execution_count": null,
   "metadata": {},
   "outputs": [],
   "source": [
    "@dataclass\n",
    "class If:\n",
    "    condition: Any\n",
    "    consequence: Any\n",
    "    alternative: Any\n",
    "    \n",
    "    def __str__(self):\n",
    "        return f\"if ({self.condition}) {{  {self.consequence}  }} else {{  {self.alternative  }}\"\n",
    "        \n",
    "    def __repr__(self):\n",
    "        return f'«{self}»'  \n",
    "    \n",
    "    "
   ]
  }
 ],
 "metadata": {
  "kernelspec": {
   "display_name": "Python 3",
   "language": "python",
   "name": "python3"
  },
  "language_info": {
   "codemirror_mode": {
    "name": "ipython",
    "version": 3
   },
   "file_extension": ".py",
   "mimetype": "text/x-python",
   "name": "python",
   "nbconvert_exporter": "python",
   "pygments_lexer": "ipython3",
   "version": "3.7.3"
  }
 },
 "nbformat": 4,
 "nbformat_minor": 2
}
